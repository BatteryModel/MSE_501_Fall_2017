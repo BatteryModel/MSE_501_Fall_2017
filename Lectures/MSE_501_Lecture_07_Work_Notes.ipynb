{
 "cells": [
  {
   "cell_type": "markdown",
   "metadata": {
    "deletable": true,
    "editable": true
   },
   "source": [
    "# Lecture 7: Of Free Energy And Structural Properties\n",
    "---\n",
    "## Lightning Review\n",
    "- Lecture 1: Bonds define a material\n",
    "- Lecture 2: Bonds seek an equilibrium\n",
    "- Lecture 3: Equilibirum (generally) seeks order.\n",
    "- Lecture 4: Ordered materials can be probed by Xrays\n",
    "- Lecture 5: One has to be thorough when checking crystals\n",
    "- Lectuer 6: There might exist an equation of state that abstract individual bonds."
   ]
  },
  {
   "cell_type": "code",
   "execution_count": null,
   "metadata": {
    "collapsed": true,
    "deletable": true,
    "editable": true
   },
   "outputs": [],
   "source": []
  },
  {
   "cell_type": "markdown",
   "metadata": {
    "deletable": true,
    "editable": true
   },
   "source": [
    "## Motivating E and S\n",
    "\n",
    "Last lecture we reviewed our basic catch all devised to tell us what wasn't up a hill ($\\Delta PE$) or flying at us ($\\Delta KE$). We called this internal Energy, and assigned it's change $\\Delta E$.\n",
    "\n",
    "\n",
    "And we said\n",
    "\n",
    "$$ q - w = \\Delta E$$\n",
    "\n",
    "Now, there are many ways of expressing $w$, and the most common is simply looking at mechanical work as $pdV$.  But this is cheating a bit because $w$ is an inexact quantity and therefore not a state property, but p and V are state properties. Why can we do this?\n",
    "\n",
    "Because when we explore work as $pdV$ we are looking at the net change in path, not the actual.  How $V$ changes is not included here.  So we have a way of viewing $w$, what bout $q$?\n",
    "\n",
    "We assigned another catching variable to entropy, or $\\Delta S$, where\n",
    "\n",
    "$$\\Delta S = \\frac{q}{T_1}-\\frac{q}{T_2}$$\n",
    "\n",
    "And we were able to put together\n",
    "\n",
    "$$\\Delta E = q-w = TdS - pdV$$\n",
    "\n",
    "This is important.  First let's get a better feeling for what $S$ is....\n"
   ]
  },
  {
   "cell_type": "markdown",
   "metadata": {
    "deletable": true,
    "editable": true
   },
   "source": [
    "## On Entropy\n",
    "\n",
    "$$dE = TdS - pdV$$\n",
    "\n",
    "let's examine how entropy changes as the system seeks equiblrium.\n",
    "\n",
    "$$dS = \\frac{dE}{T} + \\frac{pdV}{T}$$\n",
    "$$dS = n\\frac{c_{v}dT}{T} + \\frac{p}{T}dV$$\n",
    "$$dS = n\\frac{c_{v}dT}{T} + \\frac{nR}{V}dV$$\n",
    "\n",
    "Integrating:\n",
    "\n",
    "$$\\Delta S = n c_v \\ln \\frac{T_2}{T_1} + nR \\ln\\frac{V_2}{V_1}$$\n",
    "\n",
    "How does this match to our intuition?  Well as $T$ increases, entropy increases, and as $V$ increases, entropy increases, so good deal.\n",
    "|\n",
    "Now, if we start from enthalpy,\n",
    "\n",
    "$$dH = dE + pdV + Vdp$$\n",
    "$$dH = TdS - pdV + pdV + Vdp$$\n",
    "$$dH = TdS - Vdp$$\n",
    "\n",
    "Do the same trick, so\n",
    "\n",
    "$$dS = \\frac{dH}{T} - \\frac{Vdp}{T}$$\n",
    "$$dS = n\\frac{c_{p}dT}{T} - \\frac{V}{T}dp$$\n",
    "$$dS = n\\frac{c_{p}dT}{T} - \\frac{nR}{p}dP$$\n",
    "$$\\Delta S = nc_p \\ln \\frac{T_2}{T_1} - nR \\ln\\frac{p_2}{p_1}$$\n",
    "\n",
    "\n",
    "Now, this says that as pressure _increases_ entropy _decreases_, this can be a bit counterintuitive, so consider this problem.  At constant temperature, a gaseous water is compressed to a liquid. Which state has lower entropy, the higher entropy state or the lower entropy state? Which state has more _options_?\n",
    "\n",
    "More importantly: Pressure, Temperature and Volume are all macroscopic variables.  Let's go back to our single bond. What is the pressure of this system? What is the temperature of this system? What is the volume of this system?\n",
    "\n",
    "- Pressure: force exerted between atoms, a function of distance\n",
    "- Temperature: Relative vibrations of each atom, a function of distance\n",
    "- Volume: relative positive of each atom, a function of distance\n",
    "\n",
    "So at an atomic scale, pressure, volume and temperature are sort of the same thing!\n",
    "\n",
    "<img src='https://drops.steingart.princeton.edu/MSE501_Fall_2017/Images/Lecture07/mindblown.gif'>\n",
    "\n",
    "\n",
    "We can then use the relationships we derevied above, and subtitue $k$ for $R$, and say\n",
    "\n",
    "$$\\Delta S = k \\ln \\Omega $$\n",
    "\n",
    "where $\\Omega$ is the number of states the system can occupy at that time."
   ]
  },
  {
   "cell_type": "markdown",
   "metadata": {
    "deletable": true,
    "editable": true
   },
   "source": [
    "## On Free Energy\n",
    "\n",
    "Our catchall, $E$, was born as an accounting variable but became a critical placeholder for making sure our cycles start and begin in the same place. It is at home in constant volume environments as it is generally coordinated width $c_v$.  To explore constant pressure environments, we ended up with $H$ when coordinating with $c_p$.\n",
    "\n",
    "$$ dE = TdS - p dV$$\n",
    "$$ dH = dE+d(pV) = Tds - pdV + pdV + Vdp = Tds + Vdp$$\n",
    "\n",
    "\n",
    "Both $H$ and $E$ are _free energies_, and both assume that temperature is constant and entropy is changing.  To complete the cycle, it is useful to derive analagous free energies that have a basis where entropy is constant, so, starting with $E$\n",
    "\n",
    "$$dG = dE + d(pV) - d(TS) = vdP - SdT $$\n",
    "\n",
    "And this is the _Gibbs_ Free Energy. Why do we as engineers like this relationship?  \n",
    "\n",
    "Finally, for completion:\n",
    "\n",
    "$$d\\Psi = dE - (dTS) = - pdV - SdT$$\n",
    "\n",
    "Which is the _Helmholz_ Free Energy.\n",
    "\n",
    "A system always seeks to minimize its free energy. If the system decreases in entropy, you can rest assured that somewhere in the universe, there is more than enough new entropy to satisfy the second law.  \n"
   ]
  },
  {
   "cell_type": "markdown",
   "metadata": {
    "deletable": true,
    "editable": true
   },
   "source": [
    "## On Global and Local Equilibria\n",
    "\n",
    "The world would be a boring place if the paths for free energy went straight down. In many, many cases before free energy can be further decreases, it has to be first increased.  \n",
    "\n",
    "\n",
    "<img src='https://drops.steingart.princeton.edu/MSE501_Fall_2017/Images/Lecture07/stability.png'>"
   ]
  },
  {
   "cell_type": "markdown",
   "metadata": {
    "deletable": true,
    "editable": true
   },
   "source": [
    "## What's Been Missing?\n",
    "\n",
    "Let's consider the Gibb's free energy:\n",
    "\n",
    "$$dG = Vdp - sdT $$\n",
    "\n",
    "and generalize a bit do the exact differential nature of this \n",
    "\n",
    "$$dG = \\frac{\\partial G}{\\partial p}|_{T}dp + \\frac{\\partial G}{\\partial T}|_{p}dT $$\n",
    "\n",
    "This assumes that our system only has _one species_. While there are many ways in which single species systems are interesting (Si,C,Fe), variety is the spice of life. How can we account for these?\n",
    "\n",
    "Well, our free energy is a function of superimposed state functions, so let's just add more.  Let's say, for two species,\n",
    "\n",
    "$$dG = \\frac{\\partial G}{\\partial p}|_{T,n_1,n_2}dp + \\frac{\\partial G}{\\partial T}|_{p,n_1,n_2}dT + \\frac{\\partial G}{\\partial n_1}|_{p,T,n_2}dn_1 + \\frac{\\partial G}{\\partial n_2}|_{p,T,n_1}dn_2$$\n",
    "\n",
    "And we can account for all $n$,\n",
    "\n",
    "$$dG = \\frac{\\partial G}{\\partial p}|_{T,n_i}dp + \\frac{\\partial G}{\\partial T}|_{p,n_i}dT + \\sum_i \\frac{\\partial G}{\\partial n_i}|_{p,T,n \\neq i}dn_i $$\n",
    "\n",
    "So, we have these new terms $\\frac{\\partial G}{\\partial n}$, which we will call the chemical potential or $\\mu$\n",
    "\n",
    "This $\\mu$ can be derived for all free energies.\n",
    "\n",
    "Also! Each $\\mu$ changes for each phase of a given species, where phase 1 is I, 2 is II etc.  and can be written as $\\mu_1^{I},\\mu_1^{II},$ etc\n",
    "\n",
    "And we now introduce **chemical equilibrium**.\n",
    "\n"
   ]
  },
  {
   "cell_type": "markdown",
   "metadata": {
    "deletable": true,
    "editable": true
   },
   "source": [
    "## Throwing More Than One Thing Into The Mix\n",
    "\n",
    "Let's assume our system is at constant temperature and pressure and going through a phase change with one component..... \n",
    "\n",
    "$$dG = \\sum_i \\frac{\\partial G}{\\partial n_i}|_{p,T,n \\neq i}dn_i $$\n",
    "\n",
    "\n",
    "$$dG^I = \\mu_1^I dn^I_1$$\n",
    "$$dG^{II} = \\mu_1^{II} dn_1^{II}$$\n",
    "\n",
    "$$dG = dG^{I} + dG^{II} = \\mu_1^{II} dn_1^{II} +\\mu_1^{I} dn_1^{I}$$\n",
    "\n",
    "By species conservation, $dn^{II}_1=-dn^{I}_1$\n",
    "\n",
    "so, \n",
    "\n",
    "$$dG = dG^{I} + dG^{II} = (\\mu_1^{II}-\\mu_1^{I})dn_1^{II} $$\n",
    "\n",
    "So we can examine how changing $n$ alters the system of fixed $\\mu$, and luckily we can explore the other way around _at equlibrium_.\n",
    "\n",
    "Starting with $dE$,\n",
    "\n",
    "$$dE = TdS - pdV + \\sum_i \\mu_i dn_i $$\n",
    "\n",
    "and, \n",
    "\n",
    "$$E = TS - pV + \\sum_i \\mu_i n_i $$\n",
    "\n",
    "now, if we differentiate the _whole thing_ we get\n",
    "\n",
    "$$dE = TdS + SdT - pdV - VdpP + \\sum_i \\mu_i dn_i + \\sum_i d\\mu_i n_i $$\n",
    "\n",
    "This seems silly, but subtract dE from dE, so\n",
    "\n",
    "$$ 0 = SdT - Vdp + \\sum_i d\\mu_i n_i $$\n",
    "\n",
    "What's great about this relationship, also known as the Gibbs-Duhem relationship, is that we now have a system that is described at equilibrium as a function of intenstive (e.g. mass independent) variables. "
   ]
  },
  {
   "cell_type": "markdown",
   "metadata": {
    "deletable": true,
    "editable": true
   },
   "source": [
    "This becomes interesting in conjunction with our realization WRT entropy above: T,P and V are different macroscopic projections of the same microscope behavior. How does adding phases or components change this view?\n",
    "\n",
    "Well let's be clear, first off:\n",
    "\n",
    "Per Scherer (pdf page 129):\n",
    "\n",
    ">- A system is homogeneous if every volume element (containing many atoms) has the same temperature, pressure, composition, and structure.  \n",
    ">- A phase is a homogeneous part of a system.  \n",
    ">- The number of components in a system is the smallest number of independently variable constituents needed to specify the compositions of all the phases present at equilibrium.\n",
    "\n",
    "Let's explore a one component one phase system. According the the above all I have left is T,p and V.\n",
    "\n",
    "If I know T and P, then I inherently know V -> V is fixed\n",
    "\n",
    "Now let's say I have two components, in an ideal gas: O2 and N2, for example.\n",
    "\n",
    "If I know T and P, I know V, yes, but do I have any sense of what the relative mol fractions of O2 and N2 are? No.\n",
    "\n",
    "Let's take a third example. I have liquid water freezing. I have one component, but in two phases.  By the above treatment.  This phase change demands species conservation, so I know my relative mole fraction.  \n",
    "\n",
    "If we put these observations together we can hypothesize the gibbs phase rule, where\n",
    "\n",
    "$$f = C - P + 2$$"
   ]
  },
  {
   "cell_type": "markdown",
   "metadata": {
    "deletable": true,
    "editable": true
   },
   "source": [
    "## On Phase Changes\n",
    "\n",
    "Let's start with \n",
    "\n",
    "$$E = TS - pV$$ \n",
    "\n",
    "The challenge with $E$ is while it captures the heat bound between bonds, it doesn't handle potential changes in volume, so lets use our gibbs function where:\n",
    "\n",
    "$$G = H - TS $$\n",
    "\n",
    "during a phase change, at the revsible limit, then:\n",
    "\n",
    "\n",
    "$$dG = dH - SdT - TdS$$\n",
    "\n",
    "during a phase change, dT = 0, so\n",
    "\n",
    "$$dG = dH - TdS$$\n",
    "\n"
   ]
  },
  {
   "cell_type": "markdown",
   "metadata": {
    "deletable": true,
    "editable": true
   },
   "source": [
    "## On Mixtures and Solutions\n",
    "\n",
    "So, how does a mixture affect this balance?\n",
    "\n",
    "Well, let's relation to our phasing, where\n",
    "\n",
    "$$G = H - TS$$\n",
    "\n",
    "and taking the derivative with respect to the moles of species $i$, using the short hand\n",
    "\n",
    "$$\\frac{dG}{dn_i} = \\bar{G}_i$$\n",
    "\n",
    "we can say that\n",
    "\n",
    "$$\\bar{G}_i = \\bar{H}_i - T\\bar{S}_i$$\n",
    "\n",
    "and we know that \n",
    "\n",
    "$$\\frac{dG}{dn_i} = \\mu_i$$\n",
    "\n",
    "so\n",
    "\n",
    "$$\\bar{G}_i = \\bar{H}_i - T\\bar{S}_i  =  \\mu_i $$\n",
    "\n",
    "so taking the calculus a bit further\n",
    "\n",
    "$$d\\mu_i = \\bar{V}_i dp - \\bar{S}_i dT $$\n"
   ]
  },
  {
   "cell_type": "code",
   "execution_count": 3,
   "metadata": {
    "collapsed": true,
    "deletable": true,
    "editable": true
   },
   "outputs": [],
   "source": [
    "import sys\n",
    "sys.path.append(\"/pithy/code\")\n",
    "from pithy import *\n",
    "%matplotlib inline"
   ]
  },
  {
   "cell_type": "code",
   "execution_count": 10,
   "metadata": {
    "collapsed": false,
    "deletable": true,
    "editable": true
   },
   "outputs": [
    {
     "data": {
      "image/png": "[encoded data removed]",
      "text/plain": [
       "<matplotlib.figure.Figure at 0x7f54df5d12d0>"
      ]
     },
     "metadata": {},
     "output_type": "display_data"
    }
   ],
   "source": [
    "R = 8.31415\n",
    "T = 298\n",
    "\n",
    "for i in [3.5,2,0,-1,-2]:\n",
    "    alpha = i\n",
    "    xa = linspace(0,1,100)\n",
    "    xb = 1-xa\n",
    "\n",
    "    Hm = -R*T*alpha*xa*xb\n",
    "\n",
    "    plot(xb,Hm/(R*T))\n",
    "show()"
   ]
  },
  {
   "cell_type": "code",
   "execution_count": null,
   "metadata": {
    "collapsed": true,
    "deletable": true,
    "editable": true
   },
   "outputs": [],
   "source": []
  }
 ],
 "metadata": {
  "kernelspec": {
   "display_name": "Python 2",
   "language": "python",
   "name": "python2"
  },
  "language_info": {
   "codemirror_mode": {
    "name": "ipython",
    "version": 2
   },
   "file_extension": ".py",
   "mimetype": "text/x-python",
   "name": "python",
   "nbconvert_exporter": "python",
   "pygments_lexer": "ipython2",
   "version": "2.7.12"
  }
 },
 "nbformat": 4,
 "nbformat_minor": 2
}
