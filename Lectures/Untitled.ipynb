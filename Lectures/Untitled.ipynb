{
 "cells": [
  {
   "cell_type": "code",
   "execution_count": 41,
   "metadata": {
    "collapsed": false,
    "deletable": true,
    "editable": true
   },
   "outputs": [],
   "source": [
    "import sys\n",
    "sys.path.append(\"/pithy/code\")\n",
    "from fipy import *\n",
    "from pithy import *\n",
    "\n"
   ]
  },
  {
   "cell_type": "code",
   "execution_count": 42,
   "metadata": {
    "collapsed": true,
    "deletable": true,
    "editable": true
   },
   "outputs": [],
   "source": [
    "nx = ny = 20\n",
    "\n",
    "mesh = Grid2D(nx=nx, ny=ny, dx=0.25, dy=0.25)\n",
    "phi = CellVariable(name=r\"$\\phi$\", mesh=mesh)\n",
    "psi = CellVariable(name=r\"$\\psi$\", mesh=mesh)\n",
    "\n"
   ]
  },
  {
   "cell_type": "code",
   "execution_count": 44,
   "metadata": {
    "collapsed": true,
    "deletable": true,
    "editable": true
   },
   "outputs": [],
   "source": [
    "noise = GaussianNoiseVariable(mesh=mesh,mean=0.5,variance=0.01).value"
   ]
  },
  {
   "cell_type": "code",
   "execution_count": 52,
   "metadata": {
    "collapsed": false,
    "deletable": true,
    "editable": true
   },
   "outputs": [
    {
     "name": "stdout",
     "output_type": "stream",
     "text": [
      "[ 0.42186676  0.46648146  0.39975302  0.53078881  0.49478265  0.65765994\n",
      "  0.3321846   0.50321228  0.72470003  0.4932835   0.39272857  0.48256746\n",
      "  0.49581689  0.64938735  0.25057672  0.60893871  0.63895954  0.63859931\n",
      "  0.48857754  0.44891623  0.67323815  0.47230733  0.48028602  0.3941383\n",
      "  0.42613361  0.39743307  0.45652664  0.31514116  0.48147108  0.51502429\n",
      "  0.48240952  0.5476529   0.46805024  0.58097383  0.48675808  0.51120067\n",
      "  0.40879873  0.46680125  0.35330172  0.59053865  0.75339669  0.49403206\n",
      "  0.67043688  0.44027074  0.43757348  0.52455322  0.68120605  0.45830585\n",
      "  0.41546201  0.62051515  0.43570791  0.58860141  0.50592375  0.46313183\n",
      "  0.37180219  0.50759091  0.54311358  0.5789106   0.67308053  0.37360083\n",
      "  0.6305931   0.49132836  0.59302271  0.57447458  0.52788094  0.46329298\n",
      "  0.65022465  0.59634638  0.49465999  0.59739979  0.52274048  0.45846321\n",
      "  0.67043176  0.46787504  0.66532317  0.43467734  0.44391052  0.55453483\n",
      "  0.31055538  0.47502984  0.72447285  0.53413404  0.54538051  0.54912069\n",
      "  0.42511982  0.59806188  0.57651993  0.50533479  0.53215833  0.37701332\n",
      "  0.43753656  0.40669895  0.62941968  0.47079945  0.53259049  0.49298143\n",
      "  0.41226896  0.44039856  0.63907162  0.46995339  0.41995814  0.47161826\n",
      "  0.59280945  0.4816606   0.53545051  0.15974039  0.33293506  0.45933565\n",
      "  0.63022207  0.48818844  0.52976049  0.4643656   0.44255439  0.41014471\n",
      "  0.31084789  0.50876653  0.46835306  0.65787508  0.32897877  0.58842538\n",
      "  0.35632628  0.28459433  0.45423931  0.42402964  0.55269789  0.48973008\n",
      "  0.58606491  0.4001793   0.4724868   0.58506205  0.57643258  0.52739596\n",
      "  0.55222918  0.32503134  0.69644991  0.37050583  0.34122622  0.30799106\n",
      "  0.44758626  0.6220352   0.51927056  0.43095011  0.4647849   0.52016885\n",
      "  0.77460812  0.57056825  0.38387777  0.39785287  0.44188251  0.44008661\n",
      "  0.68520138  0.53699602  0.28422225  0.42600608  0.5638155   0.47151513\n",
      "  0.59710276  0.71632785  0.37168121  0.68698505  0.4240132   0.38142996\n",
      "  0.51110786  0.65704647  0.4639366   0.60808195  0.4656405   0.44333946\n",
      "  0.37198398  0.32702163  0.4447386   0.53457629  0.34928935  0.44725171\n",
      "  0.37338407  0.49436673  0.39768358  0.53544781  0.33420258  0.41292931\n",
      "  0.55524678  0.4230073   0.62759384  0.38987126  0.6755278   0.48821091\n",
      "  0.42659696  0.51686107  0.33674727  0.56861177  0.59756566  0.46015352\n",
      "  0.53563349  0.57070364  0.26143675  0.46939278  0.59083109  0.48633996\n",
      "  0.57041468  0.55278373  0.39153594  0.44452202  0.44593455  0.57144636\n",
      "  0.71765603  0.55042721  0.50883247  0.43922811  0.40536871  0.49211739\n",
      "  0.46437195  0.34180967  0.55405348  0.36706588  0.48642054  0.45890158\n",
      "  0.45827832  0.50771456  0.55132517  0.50100981  0.53841814  0.38460795\n",
      "  0.42837982  0.39029894  0.47909769  0.49912947  0.34298963  0.4396383\n",
      "  0.44514149  0.49065388  0.58002837  0.5814413   0.45911671  0.52730403\n",
      "  0.46645019  0.13919704  0.48937598  0.41506977  0.43924917  0.44851057\n",
      "  0.41511947  0.39727637  0.57752231  0.4172076   0.62615619  0.52886671\n",
      "  0.46888125  0.5297583   0.49289023  0.59633172  0.58633745  0.58454047\n",
      "  0.47300053  0.65521838  0.33956976  0.29691987  0.77004902  0.50943586\n",
      "  0.48898963  0.62480796  0.52934511  0.51929456  0.41941881  0.31742218\n",
      "  0.4628311   0.3607016   0.59677636  0.54448656  0.46022122  0.6683077\n",
      "  0.57077359  0.38025456  0.54394837  0.58957025  0.30247464  0.45620927\n",
      "  0.48939281  0.48726182  0.4948656   0.23023153  0.71299389  0.3031697\n",
      "  0.71426048  0.61610914  0.38696738  0.38059048  0.56178122  0.55176223\n",
      "  0.50317633  0.48195642  0.52273726  0.57141325  0.52580744  0.37984564\n",
      "  0.64350317  0.39345093  0.49493273  0.49040936  0.51247796  0.58395888\n",
      "  0.51057059  0.4559498   0.58867365  0.37045214  0.32524602  0.56480926\n",
      "  0.4928802   0.47160742  0.42706689  0.47884998  0.48377217  0.51403073\n",
      "  0.4123574   0.5394462   0.63792928  0.52007861  0.41939736  0.50948476\n",
      "  0.50383631  0.5626842   0.45720467  0.46799164  0.64052339  0.64598116\n",
      "  0.63447529  0.53013345  0.45620186  0.58134232  0.54502382  0.42598304\n",
      "  0.4392935   0.44863078  0.66066781  0.41932087  0.58215385  0.67606001\n",
      "  0.43497972  0.71620217  0.56958162  0.62034174  0.52641913  0.73479172\n",
      "  0.43681311  0.6674139   0.50990436  0.48951913  0.61237482  0.50455822\n",
      "  0.59403094  0.63745009  0.47425387  0.44878022  0.58597446  0.51752692\n",
      "  0.29197122  0.65575283  0.45201293  0.34754097  0.42403172  0.49182659\n",
      "  0.54157466  0.54396281  0.59943118  0.41607367  0.4039265   0.38715146\n",
      "  0.43198299  0.37885125  0.2137125   0.40466933  0.42464155  0.495435\n",
      "  0.52870348  0.34248423  0.51991009  0.6150577   0.47054847  0.47759645\n",
      "  0.56792286  0.40017153  0.46623846  0.62585465  0.69339776  0.51923149\n",
      "  0.46126992  0.47320993  0.46000837  0.41724156  0.58033802  0.39696243\n",
      "  0.32915082  0.32367937  0.48329539  0.51133556  0.4614212   0.47573501\n",
      "  0.47371316  0.38184505  0.37681261  0.49944796]\n"
     ]
    }
   ],
   "source": [
    "phi[:] = noise\n",
    "print phi"
   ]
  },
  {
   "cell_type": "code",
   "execution_count": null,
   "metadata": {
    "collapsed": false,
    "deletable": true,
    "editable": true
   },
   "outputs": [],
   "source": []
  },
  {
   "cell_type": "code",
   "execution_count": 18,
   "metadata": {
    "collapsed": false,
    "deletable": true,
    "editable": true
   },
   "outputs": [],
   "source": [
    "D = a = epsilon = 1.\n",
    "dfdphi = a**2 * 2 * phi * (1 - phi) * (1 - 2 * phi)\n",
    "dfdphi_ = a**2 * 2 * (1 - phi) * (1 - 2 * phi)\n",
    "d2fdphi2 = a**2 * 2 * (1 - 6 * phi * (1 - phi))\n",
    "eq1 = (TransientTerm(var=phi) == DiffusionTerm(coeff=D, var=psi))\n",
    "eq2 = (ImplicitSourceTerm(coeff=1., var=psi) \n",
    "       == ImplicitSourceTerm(coeff=-d2fdphi2, var=phi) \n",
    "       - d2fdphi2 * phi + dfdphi - DiffusionTerm(coeff=epsilon**2, var=phi))\n",
    "eq3 = (ImplicitSourceTerm(coeff=1., var=psi) \n",
    "        == ImplicitSourceTerm(coeff=dfdphi_, var=phi)\n",
    "        - DiffusionTerm(coeff=epsilon**2, var=phi))\n",
    "eq = eq1 & eq2\n",
    "dexp = -5\n"
   ]
  },
  {
   "cell_type": "code",
   "execution_count": 20,
   "metadata": {
    "collapsed": false,
    "deletable": true,
    "editable": true
   },
   "outputs": [
    {
     "data": {
      "image/png": "[encoded data removed]",
      "text/plain": [
       "<matplotlib.figure.Figure at 0x7f1c307c6850>"
      ]
     },
     "metadata": {},
     "output_type": "display_data"
    },
    {
     "data": {
      "image/png": "[encoded data removed]",
      "text/plain": [
       "<matplotlib.figure.Figure at 0x7f1c2e451b50>"
      ]
     },
     "metadata": {},
     "output_type": "display_data"
    }
   ],
   "source": [
    "elapsed = 0.\n",
    "duration = 100000\n",
    "while elapsed < duration:\n",
    "    dt = min(100, numerix.exp(dexp))\n",
    "    eq.solve(dt=dt)\n",
    "    elapsed += dt\n",
    "    dexp += 0.1\n",
    "viewer = Viewer(vars=(phi, psi)) # , datamin=0., datamax=1.)\n"
   ]
  },
  {
   "cell_type": "code",
   "execution_count": null,
   "metadata": {
    "collapsed": true,
    "deletable": true,
    "editable": true
   },
   "outputs": [],
   "source": []
  },
  {
   "cell_type": "code",
   "execution_count": null,
   "metadata": {
    "collapsed": true,
    "deletable": true,
    "editable": true
   },
   "outputs": [],
   "source": []
  }
 ],
 "metadata": {
  "kernelspec": {
   "display_name": "Python 2",
   "language": "python",
   "name": "python2"
  },
  "language_info": {
   "codemirror_mode": {
    "name": "ipython",
    "version": 2
   },
   "file_extension": ".py",
   "mimetype": "text/x-python",
   "name": "python",
   "nbconvert_exporter": "python",
   "pygments_lexer": "ipython2",
   "version": "2.7.12"
  }
 },
 "nbformat": 4,
 "nbformat_minor": 2
}
