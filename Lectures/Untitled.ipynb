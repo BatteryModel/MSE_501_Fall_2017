{
 "cells": [
  {
   "cell_type": "code",
   "execution_count": 77,
   "metadata": {
    "collapsed": false,
    "deletable": true,
    "editable": true
   },
   "outputs": [],
   "source": [
    "import sys\n",
    "sys.path.append(\"/pithy/code\")\n",
    "from fipy import *\n",
    "from pithy import *\n",
    "\n"
   ]
  },
  {
   "cell_type": "code",
   "execution_count": 78,
   "metadata": {
    "collapsed": true,
    "deletable": true,
    "editable": true
   },
   "outputs": [],
   "source": [
    "nx = ny = 20\n",
    "\n",
    "mesh = Grid2D(nx=nx, ny=ny, dx=0.25, dy=0.25)\n",
    "phi = CellVariable(name=r\"$\\phi$\", mesh=mesh)\n",
    "psi = CellVariable(name=r\"$\\psi$\", mesh=mesh)\n",
    "\n"
   ]
  },
  {
   "cell_type": "code",
   "execution_count": 79,
   "metadata": {
    "collapsed": true,
    "deletable": true,
    "editable": true
   },
   "outputs": [],
   "source": [
    "noise = GaussianNoiseVariable(mesh=mesh,mean=0.5,variance=0.01).value"
   ]
  },
  {
   "cell_type": "code",
   "execution_count": 80,
   "metadata": {
    "collapsed": false,
    "deletable": true,
    "editable": true
   },
   "outputs": [],
   "source": [
    "phi[:] = noise"
   ]
  },
  {
   "cell_type": "code",
   "execution_count": null,
   "metadata": {
    "collapsed": false,
    "deletable": true,
    "editable": true
   },
   "outputs": [],
   "source": [
    "D = a = epsilon = 1.\n",
    "dfdphi = a**2 * 2 * phi * (1 - phi) * (1 - 2 * phi)\n",
    "dfdphi_ = a**2 * 2 * (1 - phi) * (1 - 2 * phi)\n",
    "d2fdphi2 = a**2 * 2 * (1 - 6 * phi * (1 - phi))\n",
    "eq1 = (TransientTerm(var=phi) == DiffusionTerm(coeff=D, var=psi))\n",
    "eq2 = (ImplicitSourceTerm(coeff=1., var=psi) \n",
    "       == ImplicitSourceTerm(coeff=-d2fdphi2, var=phi) \n",
    "       - d2fdphi2 * phi + dfdphi - DiffusionTerm(coeff=epsilon**2, var=phi))\n",
    "eq3 = (ImplicitSourceTerm(coeff=1., var=psi) \n",
    "        == ImplicitSourceTerm(coeff=dfdphi_, var=phi)\n",
    "        - DiffusionTerm(coeff=epsilon**2, var=phi))\n",
    "eq = eq1 & eq2\n",
    "dexp = -5\n",
    "imshow(reshape(phi,(20,20)),cmap=cm.jet)\n",
    "\n"
   ]
  },
  {
   "cell_type": "code",
   "execution_count": null,
   "metadata": {
    "collapsed": false,
    "deletable": true,
    "editable": true
   },
   "outputs": [],
   "source": [
    "elapsed = 0.\n",
    "duration = 1000\n",
    "while elapsed < duration:\n",
    "    dt = min(100, numerix.exp(dexp))\n",
    "    eq.solve(dt=dt)\n",
    "    elapsed += dt\n",
    "    dexp += 0.1\n",
    "imshow(reshape(phi,(20,20)))\n",
    "clim(0,1)"
   ]
  },
  {
   "cell_type": "code",
   "execution_count": null,
   "metadata": {
    "collapsed": true,
    "deletable": true,
    "editable": true
   },
   "outputs": [],
   "source": []
  },
  {
   "cell_type": "code",
   "execution_count": null,
   "metadata": {
    "collapsed": true,
    "deletable": true,
    "editable": true
   },
   "outputs": [],
   "source": []
  }
 ],
 "metadata": {
  "kernelspec": {
   "display_name": "Python 2",
   "language": "python",
   "name": "python2"
  },
  "language_info": {
   "codemirror_mode": {
    "name": "ipython",
    "version": 2
   },
   "file_extension": ".py",
   "mimetype": "text/x-python",
   "name": "python",
   "nbconvert_exporter": "python",
   "pygments_lexer": "ipython2",
   "version": "2.7.12"
  }
 },
 "nbformat": 4,
 "nbformat_minor": 2
}
