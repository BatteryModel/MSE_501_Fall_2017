{
 "cells": [
  {
   "cell_type": "code",
   "execution_count": 41,
   "metadata": {
    "collapsed": false,
    "deletable": true,
    "editable": true
   },
   "outputs": [],
   "source": [
    "import sys\n",
    "sys.path.append(\"/pithy/code\")\n",
    "from fipy import *\n",
    "from pithy import *\n",
    "\n"
   ]
  },
  {
   "cell_type": "code",
   "execution_count": 42,
   "metadata": {
    "collapsed": true,
    "deletable": true,
    "editable": true
   },
   "outputs": [],
   "source": [
    "nx = ny = 20\n",
    "\n",
    "mesh = Grid2D(nx=nx, ny=ny, dx=0.25, dy=0.25)\n",
    "phi = CellVariable(name=r\"$\\phi$\", mesh=mesh)\n",
    "psi = CellVariable(name=r\"$\\psi$\", mesh=mesh)\n",
    "\n"
   ]
  },
  {
   "cell_type": "code",
   "execution_count": 44,
   "metadata": {
    "collapsed": true,
    "deletable": true,
    "editable": true
   },
   "outputs": [],
   "source": [
    "noise = GaussianNoiseVariable(mesh=mesh,mean=0.5,variance=0.01).value"
   ]
  },
  {
   "cell_type": "code",
   "execution_count": 58,
   "metadata": {
    "collapsed": false,
    "deletable": true,
    "editable": true
   },
   "outputs": [
    {
     "ename": "TypeError",
     "evalue": "reshape() takes at least 2 arguments (0 given)",
     "output_type": "error",
     "traceback": [
      "\u001b[0;31m\u001b[0m",
      "\u001b[0;31mTypeError\u001b[0mTraceback (most recent call last)",
      "\u001b[0;32m<ipython-input-58-dbce451d00bf>\u001b[0m in \u001b[0;36m<module>\u001b[0;34m()\u001b[0m\n\u001b[1;32m      1\u001b[0m \u001b[0mphi\u001b[0m\u001b[0;34m[\u001b[0m\u001b[0;34m:\u001b[0m\u001b[0;34m]\u001b[0m \u001b[0;34m=\u001b[0m \u001b[0mnoise\u001b[0m\u001b[0;34m\u001b[0m\u001b[0m\n\u001b[0;32m----> 2\u001b[0;31m \u001b[0mreshape\u001b[0m\u001b[0;34m(\u001b[0m\u001b[0;34m)\u001b[0m\u001b[0;34m\u001b[0m\u001b[0m\n\u001b[0m",
      "\u001b[0;31mTypeError\u001b[0m: reshape() takes at least 2 arguments (0 given)"
     ]
    }
   ],
   "source": [
    "phi[:] = noise"
   ]
  },
  {
   "cell_type": "code",
   "execution_count": null,
   "metadata": {
    "collapsed": false,
    "deletable": true,
    "editable": true
   },
   "outputs": [],
   "source": []
  },
  {
   "cell_type": "code",
   "execution_count": 18,
   "metadata": {
    "collapsed": false,
    "deletable": true,
    "editable": true
   },
   "outputs": [],
   "source": [
    "D = a = epsilon = 1.\n",
    "dfdphi = a**2 * 2 * phi * (1 - phi) * (1 - 2 * phi)\n",
    "dfdphi_ = a**2 * 2 * (1 - phi) * (1 - 2 * phi)\n",
    "d2fdphi2 = a**2 * 2 * (1 - 6 * phi * (1 - phi))\n",
    "eq1 = (TransientTerm(var=phi) == DiffusionTerm(coeff=D, var=psi))\n",
    "eq2 = (ImplicitSourceTerm(coeff=1., var=psi) \n",
    "       == ImplicitSourceTerm(coeff=-d2fdphi2, var=phi) \n",
    "       - d2fdphi2 * phi + dfdphi - DiffusionTerm(coeff=epsilon**2, var=phi))\n",
    "eq3 = (ImplicitSourceTerm(coeff=1., var=psi) \n",
    "        == ImplicitSourceTerm(coeff=dfdphi_, var=phi)\n",
    "        - DiffusionTerm(coeff=epsilon**2, var=phi))\n",
    "eq = eq1 & eq2\n",
    "dexp = -5\n"
   ]
  },
  {
   "cell_type": "code",
   "execution_count": null,
   "metadata": {
    "collapsed": false,
    "deletable": true,
    "editable": true
   },
   "outputs": [],
   "source": [
    "elapsed = 0.\n",
    "duration = 100000\n",
    "while elapsed < duration:\n",
    "    dt = min(100, numerix.exp(dexp))\n",
    "    eq.solve(dt=dt)\n",
    "    elapsed += dt\n",
    "    dexp += 0.1\n",
    "reshape(phi,(20,20))"
   ]
  },
  {
   "cell_type": "code",
   "execution_count": null,
   "metadata": {
    "collapsed": true,
    "deletable": true,
    "editable": true
   },
   "outputs": [],
   "source": []
  },
  {
   "cell_type": "code",
   "execution_count": null,
   "metadata": {
    "collapsed": true,
    "deletable": true,
    "editable": true
   },
   "outputs": [],
   "source": []
  }
 ],
 "metadata": {
  "kernelspec": {
   "display_name": "Python 2",
   "language": "python",
   "name": "python2"
  },
  "language_info": {
   "codemirror_mode": {
    "name": "ipython",
    "version": 2
   },
   "file_extension": ".py",
   "mimetype": "text/x-python",
   "name": "python",
   "nbconvert_exporter": "python",
   "pygments_lexer": "ipython2",
   "version": "2.7.12"
  }
 },
 "nbformat": 4,
 "nbformat_minor": 2
}
