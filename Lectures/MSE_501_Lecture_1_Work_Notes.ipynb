{
 "cells": [
  {
   "cell_type": "markdown",
   "metadata": {
    "deletable": true,
    "editable": true
   },
   "source": [
    "## Introduction To Materials\n",
    "Chances are you directly interacted with an engineered material today: in fact, there is a chance that you did _not_ interact with a material that was not engineered today.\n",
    "\n",
    "It may or may not be obvious that any metal or glass had undergo significant processing to exist in whatever form you used it today, but even the wood and rock you have interacted with has likely been improved when purposefully engineered.\n",
    "\n",
    "But this is graduate school, where we ask questions like:\n",
    "- What is a material?  \n",
    "- Why do we have to engineer materials?\n",
    "- What does improved mean?\n"
   ]
  },
  {
   "cell_type": "markdown",
   "metadata": {
    "deletable": true,
    "editable": true
   },
   "source": [
    "So: starting from the most Banal\n",
    "\n",
    "First we foraged\n",
    "![](https://aceflashman.files.wordpress.com/2009/11/the-entrance-as-seen-from-inside.jpg?w=630)\n",
    "\n",
    "Then we refined\n",
    "![](http://3.bp.blogspot.com/_tGndWWWOw68/TQPfao7DSlI/AAAAAAAACJ8/d7oFxV6YKzU/s1600/DSC08090.JPG)\n",
    "\n",
    "Then we engineered \n",
    "![](http://images.nationalgeographic.com/wpf/media-live/photos/000/280/cache/taos-pueblos-mud-houses_28026_600x450.jpg)\n",
    "\n",
    "\n",
    "\n",
    "(ish)\n",
    "So, what’s the big difference here? \n"
   ]
  },
  {
   "cell_type": "markdown",
   "metadata": {
    "deletable": true,
    "editable": true
   },
   "source": [
    "We choose our fate explicitly starting with the last bit. We don’t wait for nature to hand us what we need, we create it. And as such, we create the ability to make something reliably and to fit.\n",
    "\n",
    "So where do we need to start?\n",
    "\n",
    "What are the quanta in the above pictures?\n",
    "\n",
    "- A mountain\n",
    "- A log\n",
    "- A grain of sand\n",
    "\n",
    "Where are we now? \n",
    "\n",
    "Ever closer to the atom. So let’s start there.\n",
    "\n",
    "What atoms might we want to start with?  We have, say, 115 to start.  That’s a lot. What should we get rid of?\n",
    "\n",
    "Well, the noble gases won’t form solids readily, so those are out.\n",
    "\n",
    "Anything inherently radioactive is less than ideal for an engineering material unless\n",
    "- Fission\n",
    "- Alpha/Beta/Gamma Voltaics (sun in a box)\n",
    "\n",
    "Can we throw out anything that gaseous at room tempreature?\n",
    "\n",
    "No! Nitrides, Oxides are super for materials!\n",
    "\n"
   ]
  },
  {
   "cell_type": "markdown",
   "metadata": {
    "deletable": true,
    "editable": true
   },
   "source": [
    "## Boilerplate Break\n",
    "\n",
    "https://trello.com/b/PCL61HEO/mse-501-fall-2017\n"
   ]
  },
  {
   "cell_type": "markdown",
   "metadata": {
    "deletable": true,
    "editable": true
   },
   "source": [
    "## Back To The Good Stuff\n",
    "What can we use to make materials?  Well, anything here:\n",
    "\n",
    "![](https://sciencenotes.org/wp-content/uploads/2015/01/Periodic-Table-Color.png)\n",
    "\n",
    "What might we not want to use?\n"
   ]
  },
  {
   "cell_type": "markdown",
   "metadata": {
    "deletable": true,
    "editable": true,
    "slideshow": {
     "slide_type": "slide"
    }
   },
   "source": [
    "## A Basic Model of Interparticle Attraction\n",
    "$$U_{attr} = \\frac{q_1 q_2}{r}$$  \n",
    "$$U_{rep} = \\frac{A}{r}^n$$\n",
    "$$U_{net} = U_{rep} + U_{attr}$$\n",
    "\n",
    "Let's normalize $r$ such that $r_0 = r $  where $U_{net}$ is minimized"
   ]
  },
  {
   "cell_type": "code",
   "execution_count": null,
   "metadata": {
    "collapsed": false,
    "deletable": true,
    "editable": true,
    "slideshow": {
     "slide_type": "fragment"
    }
   },
   "outputs": [],
   "source": [
    "#call jupyter magic \n",
    "%matplotlib inline \n",
    "#import pithy libraries\n",
    "import sys \n",
    "sys.path.append('/pithy/code')\n",
    "from pithy import *\n",
    "matplotlib.rcParams['figure.figsize'] = (15.0, 10.0)\n",
    "\n",
    "#Now let's translate to python\n",
    "rl = .01\n",
    "\n",
    "r = linspace(1e-5,rl,1000) #avoid 0 to avoid infinity which is generally good to avoid\n",
    "\n",
    "#From Sherrer Notes Page 19\n",
    "q1 = 1\n",
    "q2 = -1\n",
    "U_att = q1*q2/r\n",
    "\n",
    "#From Sherrer Notes Page 19\n",
    "A = .002\n",
    "U_rep = (A/r)**12\n",
    "U_net = U_att + U_rep\n",
    "\n",
    "#Find where U_net is mininum\n",
    "r0 = r[argmin(U_net)] #find r0\n",
    "\n",
    "#Now Let's Plot\n",
    "plot(r/r0,U_att,label=\"Attractive Potential\")\n",
    "plot(r/r0,U_rep,label=\"Repulsive Potential\")\n",
    "plot(r/r0,U_net,label=\"Net Potential\")\n",
    "xlim(0,max(r/r0))\n",
    "ylim(-1000,1000)\n",
    "legend()\n",
    "ylabel(\"Net Potential (AU)\")\n",
    "xlabel(\"$r/r_0$\")\n"
   ]
  },
  {
   "cell_type": "markdown",
   "metadata": {
    "deletable": true,
    "editable": true,
    "slideshow": {
     "slide_type": "slide"
    }
   },
   "source": [
    "##  Slightly More Convenient Model of Interaction  \n",
    "\n",
    "Use a repulsive force as above\n",
    "$$U_{rep} = \\frac{A}{r}^n$$\n",
    "\n",
    "Use an attractive force based on dispersion\n",
    "$$U_{attr} = -\\frac{b}{r}^m$$\n",
    "\n",
    "For a net force of \n",
    "$$U_{net} = U_{rep} + U_{attr} =  \\frac{A}{r}^n + -\\frac{b}{r}^m$$\n",
    "\n",
    "let's take \n",
    "$$b = 0.2$$\n",
    "$$m = 6$$\n",
    "\n",
    "\n",
    "\n"
   ]
  },
  {
   "cell_type": "code",
   "execution_count": null,
   "metadata": {
    "collapsed": false,
    "deletable": true,
    "editable": true,
    "slideshow": {
     "slide_type": "notes"
    }
   },
   "outputs": [],
   "source": [
    "matplotlib.rcParams['figure.figsize'] = (15.0, 10.0)\n",
    "\n",
    "#From Sherrer Notes Page 20\n",
    "b = 2.2e-3\n",
    "m = 6\n",
    "U_att = -(b/r)**m\n",
    "\n",
    "#Reset the net\n",
    "U_net = U_att + U_rep\n",
    "r0 = r[argmin(U_net)] #find r0\n",
    "\n",
    "#Now Let's Plot\n",
    "plot(r/r0,U_att,label=\"Attractive Potential\")\n",
    "plot(r/r0,U_rep,label=\"Repulsive Potential\")\n",
    "plot(r/r0,U_net,label=\"Net Potential\")\n",
    "xlim(0,max(r/r0))\n",
    "ylim(-1,1)\n",
    "legend()\n",
    "ylabel(\"Net Potential (AU)\")\n",
    "xlabel(\"$r/r_0$\")\n"
   ]
  },
  {
   "cell_type": "markdown",
   "metadata": {
    "deletable": true,
    "editable": true,
    "slideshow": {
     "slide_type": "slide"
    }
   },
   "source": [
    "## Net Force and Mean Separation\n",
    "So, at the minimum potential, the net force on the system should be zero.  \n",
    "\n",
    "$$F = \\frac{dU}{dr}$$\n",
    "$$F = \\frac{m b^m}{r^{m+1}} - \\frac{n a^n}{r^{n+1}}$$\n",
    "\n",
    "Where $F = 0$, this is physical critera for the mean separation $r_0$\n",
    "\n",
    "$$F(r_0) = 0 $$\n",
    "\n",
    "Solve for r_0\n",
    "\n",
    "$$F = \\frac{m b^m}{r_0^{m+1}} - \\frac{n a^n}{r_0^{n+1}} = 0$$\n",
    "$$r_0 = (\\frac{na^n}{mb^m})^{\\frac{1}{n-m}}$$\n",
    "\n",
    "We can now reconsider F as\n",
    "\n",
    "$$ F = \\frac{n a^n}{r_0^{n+1}}[(\\frac{r_0}{r})^{m+1}-(\\frac{r_0}{r})^{n+1}] $$\n",
    "\n",
    "I'm going to \"cheat\" below and just take the numerical derivative"
   ]
  },
  {
   "cell_type": "code",
   "execution_count": null,
   "metadata": {
    "collapsed": false,
    "deletable": true,
    "editable": true,
    "slideshow": {
     "slide_type": "subslide"
    }
   },
   "outputs": [],
   "source": [
    "\n",
    "#Take Numerical Derivative\n",
    "F = diff(U_net)\n",
    "rd = r[1:] #make the array match the new F dimension (n-1)\n",
    "\n",
    "\n",
    "#Now Let's Plot\n",
    "plot(rd/r0,F)\n",
    "xlim(0,max(rd/r0))\n",
    "ylim(-.015,.015)\n",
    "ylabel(\"Net Force (AU)\")\n",
    "xlabel(\"$r/r_0$\")\n"
   ]
  },
  {
   "cell_type": "markdown",
   "metadata": {
    "deletable": true,
    "editable": true
   },
   "source": [
    "## So what happens when we push/pull these two atoms?\n",
    "\n",
    "Well, let's model as a simple spring, which you might like as \n",
    "\n",
    "$$ F = kx $$\n",
    "\n",
    "but we change slightly to \n",
    "\n",
    "$$\\sigma = E \\epsilon $$\n",
    "\n",
    "where $\\sigma$ is the strees, $E$ is the elastic modulus and $\\epsilon$ is the strain, \n",
    "\n",
    "$$\\sigma = \\frac{F}{a}$$\n",
    "\n",
    "for simplicity sake let's say $a = r^2$ so\n",
    "\n",
    "$$\\sigma = \\frac{F}{r^2} = \\frac{\\frac{n a^n}{r_0^{n+1}}[(\\frac{r_0}{r})^{m+1}-(\\frac{r_0}{r})^{n+1}]}{r^2} = \\frac{n a^n}{r_0^{n+3}}[(\\frac{r_0}{r})^{m+1}-(\\frac{r_0}{r})^{n+1}] $$\n",
    "\n",
    "and strain is a dimensionless quantity describing the overall atomic displacement as\n",
    "\n",
    "$$ \\epsilon = \\frac{r-r_0}{r_0} $$\n",
    "\n",
    "We can now define our elastic modulus (spring \"constant\") $E$ as  \n",
    "\n",
    "$$ {E_0} =\\frac{d\\sigma}{d\\epsilon}|_{r=r_0} = r_0 \\frac{d\\sigma}{dr}_{r=r_0} = \\frac{n(n-m)a^2}{r_0^{n+3}}$$ \n",
    "\n",
    "So we can now get rid of both a and b in our initial description of F, so\n",
    "\n",
    "$$ F = \\frac{E_0 r_0^2}{n-m}[(\\frac{r_0}{r})^{m+1}-(\\frac{r_0}{r})^{n+1}] $$\n",
    "\n",
    "And we can redefine our $\\sigma$ accordingly:\n",
    "\n",
    "$$ \\sigma =  \\frac{E_0}{n-m}[(\\frac{r_0}{r})^{m+1}-(\\frac{r_0}{r})^{n+1}] $$\n",
    "\n",
    "As well as our interatomic potential $U$:\n",
    "\n",
    "\n",
    "$$ U =  \\frac{E_0 r_0^3}{n-m}[(\\frac{r_0}{r})^{n}-\\frac{n}{m}(\\frac{r_0}{r})^{m}] $$\n",
    "\n",
    "And to go in a complete circle, \n",
    "\n",
    "$$U_{min} \\equiv U(r_0) = \\frac{E_0 r^3}{nm}$$\n",
    "\n",
    "If $n = 12$ and $m = 6$   \n",
    "\n"
   ]
  },
  {
   "cell_type": "code",
   "execution_count": null,
   "metadata": {
    "collapsed": false,
    "deletable": true,
    "editable": true
   },
   "outputs": [],
   "source": [
    "m = 6.\n",
    "n = 12.\n",
    "E0 = 1e9 #GPa estimate\n",
    "r0 = .1 #we're normalizing anyway so /\n",
    "\n",
    "def U(r): return E0*r**3/(n*(n*m))*((r0/r)**n - (n/m)*(r0/r)**m)\n",
    "\n",
    "rs = linspace(.01,2,1000)\n",
    "\n",
    "Uc = U(rs)\n",
    "Fc = diff(Uc)\n",
    "\n",
    "plot(rs/r0,Uc/abs(min(Uc)),label='$U(r)/U_{min}$')\n",
    "plot(rs[:-1]/r0,Fc/abs(max(Fc)),label='$F(r)/F_{max}$')\n",
    "axhline(y=0,color='black',linewidth=.5)\n",
    "legend()\n",
    "ylim(-2,2)\n",
    "xlim(.8,2)\n",
    "ylabel(\"Normalized Quantity\")\n",
    "xlabel(\"$r/r_0$\")\n"
   ]
  },
  {
   "cell_type": "markdown",
   "metadata": {
    "deletable": true,
    "editable": true,
    "slideshow": {
     "slide_type": "slide"
    }
   },
   "source": [
    "## So how _strong_ is this bond?\n",
    "\n",
    "Well: if we go to $ r < r_0 $, we are forcing the atoms closer together. They don't want to touch. If we go to $ r > r_0$, at first we have a net force to overcome, but we reach a maximum and then, effectively, the atom can move further and further and the attraction becomes weaker.  So let's set the critical distance as $r$ where $F(r)|_{r=r_{max}}$\n",
    "\n",
    "So let's find the other limit where $dF/dr = 0$ such that\n",
    "\n",
    "\n",
    "$$ \\frac{dF}{dr}= \\frac{d^2U}{dr^2} =  \\frac{d^2(\\frac{E_0 r_0^3}{n-m}[(\\frac{r_0}{r})^{n}-\\frac{n}{m}(\\frac{r_0}{r})^{m}])}{dr^2} $$\n",
    "\n",
    "\n",
    "$$ \\frac{dF}{dr}|_{r=r_{max}} = \\frac{E_0 r_0^2}{n-m} [-(m+1)\\frac{r_0^{m+1}}{r_{max}^{m+2}}+(n+1)\\frac{r_0^{n+1}}{r_{max}^{n+2}}] = 0 $$ \n",
    "\n",
    "a lot of manipulation later we can say\n",
    "\n",
    "$$r_{max} = \\delta*r_0 = (\\frac{n+1}{m+1})^\\frac{1}{n-m}r_0$$\n",
    "\n",
    "\n",
    "or, we just find the maximum point on our plot above.....\n"
   ]
  },
  {
   "cell_type": "code",
   "execution_count": null,
   "metadata": {
    "collapsed": false,
    "deletable": true,
    "editable": true
   },
   "outputs": [],
   "source": [
    "rmax = rs[argmax(Fc)]\n",
    "rmax = rmax/r0\n",
    "\n",
    "plot(rs/r0,Uc/abs(min(Uc)),label='$U(r)/U_{min}$')\n",
    "plot(rs[:-1]/r0,Fc/abs(max(Fc)),label='$F(r)/F_{max}$')\n",
    "axhline(y=0,color='black',linewidth=.5)\n",
    "axvline(x=rmax,color='red',linewidth=.5)\n",
    "\n",
    "legend()\n",
    "ylim(-2,2)\n",
    "xlim(.8,2)\n",
    "ylabel(\"Normalized Quantity\")\n",
    "xlabel(\"$r/r_0$\")\n"
   ]
  },
  {
   "cell_type": "markdown",
   "metadata": {
    "deletable": true,
    "editable": true
   },
   "source": [
    "So, if we calculate what this says about the fracture point of the material, we can say that\n",
    "\n",
    "$$F(r_{max}) = \\frac{E_0 r_0^2}{n-m}[(\\frac{m+1}{n+1})^\\frac{m+1}{n-m}-\\frac{m+1}{n+1})^\\frac{n+1}{n-m}]$$\n",
    "\n",
    "Conviniently, when we convert from force to stress, we get\n",
    "\n",
    "$$\\sigma(r_{max}) = \\frac{F(r_{max})}{r_0^2} = \\frac{E_0}{n-m}[(\\frac{m+1}{n+1})^\\frac{m+1}{n-m}-\\frac{m+1}{n+1})^\\frac{n+1}{n-m}]$$\n",
    "\n",
    "In our attraction/repulsion model $n = 12$ but $m$ lies between 1 for ionic and 6 for covalent, so\n"
   ]
  },
  {
   "cell_type": "code",
   "execution_count": null,
   "metadata": {
    "collapsed": false,
    "deletable": true,
    "editable": true
   },
   "outputs": [],
   "source": [
    "n = 12\n",
    "m = linspace(1,6,1000)\n",
    "\n",
    "pre = 1/(n-m)\n",
    "part1 = ((m+1)/(n+1))**((m+1)/(n-m))\n",
    "part2 = ((m+1)/(n+1))**((n+1)/(n-m))\n",
    "s_over_E = pre*(part1-part2)\n",
    "\n",
    "plot(m,s_over_E,color='black')\n",
    "xlabel(\"m\")\n",
    "ylabel(\"$\\sigma_{max} / E_0$\")\n"
   ]
  },
  {
   "cell_type": "markdown",
   "metadata": {
    "deletable": true,
    "editable": true
   },
   "source": [
    "So, roughly, the theoretical fracture stress of a bond is ~1/20th that of its elastic modulus. We find in practice that this theoretical strength is far, far higher than any achieveable strength.  Why?"
   ]
  },
  {
   "cell_type": "markdown",
   "metadata": {
    "deletable": true,
    "editable": true
   },
   "source": [
    "## So that's if we pull really hard.  What if we make it really hot?\n",
    "\n",
    "Well, assuming it doesn't react with anything, it should melt.  So what is a good guess at a melting condition?\n",
    "\n",
    "Hint, look at this"
   ]
  },
  {
   "cell_type": "code",
   "execution_count": null,
   "metadata": {
    "collapsed": false,
    "deletable": true,
    "editable": true
   },
   "outputs": [],
   "source": [
    "m = 6.\n",
    "n = 12.\n",
    "E0 = 1e9 #GPa estimate\n",
    "r0 = .1 #we're normalizing anyway so /\n",
    "\n",
    "def U(r): return E0*r**3/(n*(n*m))*((r0/r)**n - (n/m)*(r0/r)**m)\n",
    "\n",
    "rs = linspace(.01,2,1000)\n",
    "\n",
    "Uc = U(rs)\n",
    "Fc = diff(Uc)\n",
    "\n",
    "plot(rs/r0,Uc/abs(min(Uc)),label='$U(r)/U_{min}$')\n",
    "plot(rs[:-1]/r0,Fc/abs(max(Fc)),label='$F(r)/F_{max}$')\n",
    "axhline(y=0,color='black',linewidth=.5)\n",
    "legend()\n",
    "ylim(-2,2)\n",
    "xlim(.8,2)\n",
    "ylabel(\"Normalized Quantity\")\n",
    "xlabel(\"$r/r_0$\")\n"
   ]
  },
  {
   "cell_type": "markdown",
   "metadata": {
    "deletable": true,
    "editable": true
   },
   "source": [
    "A good criteria might be if we did something to estimate the amount of energy it takes to escape the critical attractive forces. How might we model this?\n",
    "\n",
    "Well, let's add more atoms, since two atoms hardly makes a solid (more on this much later). \n",
    "\n",
    "The first law of thermodynamics says that \n",
    "\n",
    "$$Q - W = \\Delta U$$\n",
    "\n",
    "and always for a single phase, \n",
    "\n",
    "$$\\Delta U \\equiv c\\Delta T$$\n",
    "\n",
    "now, what is the specific heat? Well, we'll assume that every at has $z_s$ neighbor atoms.  A model was proposed by Lindemann such that\n",
    "\n",
    "\n",
    "$$T_m \\approx \\frac{2 z_s (U(r_{max}) - U_{min} }{3 k} $$\n",
    "\n",
    "Where $k$ is the Botlzmann constant (think the ideal gas constant, but for small numbers of atoms). \n",
    "\n",
    "If we use our model of elasticity above, we can achieve\n",
    "\n",
    "$$ T_m \\approx \\frac{E_0 r_0^3}{k} \\frac{2z_s}{3nm}[1-(\\frac{m+n+1}{n+1})(\\frac{m+1}{n+1})^\\frac{m}{n-m}] $$\n",
    "\n",
    "Assuming metallic coordination, $z_s = 6, m = 6, n = 12$, we get a very simple correlation such that\n",
    "\n",
    "$$T_m \\approx \\frac{E_0 r_0^3}{85 k} $$\n",
    "\n",
    "And holy moly: the melting point is diretly proportional to the elastic modulus? Does this hold up?\n"
   ]
  },
  {
   "cell_type": "code",
   "execution_count": null,
   "metadata": {
    "collapsed": false,
    "deletable": true,
    "editable": true
   },
   "outputs": [],
   "source": [
    "# let's make a table\n",
    "# values from wikimedia (k, GPa, Pm (covalent)\n",
    "tt = \"\"\"Metal,Tm,E0,r0\n",
    "W,3422+273,370,0.162\n",
    "Pb,600.61,46,0.175\n",
    "Li,453.65,11,0.152\n",
    "Al,933.47,76,0.121,\n",
    "Ta,3290,200,0.170\"\"\"\n",
    "\n",
    "\n",
    "lines = tt.split(\"\\n\")\n",
    "mm = {}\n",
    "h = lines[0].split(\",\")\n",
    "for line in lines[1:]:\n",
    "    p = line.split(\",\")\n",
    "    mm[p[0]] = {}\n",
    "    for i in range(1,4):\n",
    "        mm[p[0]][h[i]] = float(eval(p[i])) \n",
    "\n",
    "        \n",
    "y = []\n",
    "x = []\n",
    "ms = []\n",
    "for m in mm.keys():\n",
    "    y.append(mm[m]['E0']*mm[m]['r0']**3)\n",
    "    x.append(mm[m]['Tm'])\n",
    "    ms.append(m)\n",
    "\n",
    "    \n",
    "k = 1.38064852e-23*(1e18) # nm2 kg s-2 K-1\n",
    "Tm = linspace(273,4000,1000)\n",
    "fit = 85.*k*Tm\n",
    "\n",
    "plot(Tm,fit)\n",
    "plot(x,y,'.')\n",
    "\n",
    "for i in range(len(ms)):\n",
    "    annotate(ms[i],xy=(x[i],y[i]))\n",
    "    \n",
    "ylabel(\"$E_0r_0^3 (GPa-nm^3)$\")\n",
    "xlabel(\"$T_m (K)$\")\n"
   ]
  }
 ],
 "metadata": {
  "celltoolbar": "Edit Metadata",
  "kernelspec": {
   "display_name": "Python 2",
   "language": "python",
   "name": "python2"
  },
  "language_info": {
   "codemirror_mode": {
    "name": "ipython",
    "version": 2
   },
   "file_extension": ".py",
   "mimetype": "text/x-python",
   "name": "python",
   "nbconvert_exporter": "python",
   "pygments_lexer": "ipython2",
   "version": "2.7.12"
  }
 },
 "nbformat": 4,
 "nbformat_minor": 2
}
