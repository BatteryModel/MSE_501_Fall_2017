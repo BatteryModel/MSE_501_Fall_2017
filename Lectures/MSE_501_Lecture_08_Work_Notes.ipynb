{
 "cells": [
  {
   "cell_type": "markdown",
   "metadata": {
    "deletable": true,
    "editable": true
   },
   "source": [
    "# Lecture 08\n",
    "---\n"
   ]
  },
  {
   "cell_type": "code",
   "execution_count": 7,
   "metadata": {
    "collapsed": true,
    "deletable": true,
    "editable": true
   },
   "outputs": [],
   "source": [
    "import sys\n",
    "sys.path.append(\"/pithy/code\")\n",
    "from pithy import *\n",
    "%matplotlib inline"
   ]
  },
  {
   "cell_type": "markdown",
   "metadata": {
    "deletable": true,
    "editable": true
   },
   "source": [
    "## On Mixtures and Solutions\n",
    "\n",
    "So, how does a mixture affect this balance?\n",
    "\n",
    "Well, let's relation to our phasing, where\n",
    "\n",
    "$$G = H - TS$$\n",
    "\n",
    "and taking the derivative with respect to the moles of species $i$, using the short hand\n",
    "\n",
    "$$\\frac{dG}{dn_i} = \\bar{G}_i$$\n",
    "\n",
    "we can say that\n",
    "\n",
    "$$\\bar{G}_i = \\bar{H}_i - T\\bar{S}_i$$\n",
    "\n",
    "and we know that \n",
    "\n",
    "$$\\frac{dG}{dn_i} = \\mu_i$$\n",
    "\n",
    "so\n",
    "\n",
    "$$\\bar{G}_i = \\bar{H}_i - T\\bar{S}_i  =  \\mu_i $$\n",
    "\n",
    "so taking the calculus a bit further\n",
    "\n",
    "$$d\\mu_i = \\bar{V}_i dp - \\bar{S}_i dT $$\n",
    "\n",
    "This is important but it tells us that we can isolate contriubtions of chemical potentials to the system by understanding the amount of that species in the system, and it's contribution to the entropy of the system.\n"
   ]
  },
  {
   "cell_type": "markdown",
   "metadata": {
    "deletable": true,
    "editable": true
   },
   "source": [
    "This motivates a study of partial molar quantities, which can be considered as:\n",
    "\n",
    "$$\\frac{\\partial G}{\\partial T}|_P = - S$$\n",
    "$$V = \\sum_i \\bar{V}_i n_i $$\n",
    "\n",
    "For a two component mixture:\n",
    "\n",
    "We can examing the _molar volume_ as \n",
    "\n",
    "$$V_M = x_A\\bar{V}_A +x_B\\bar{V}_B$$\n",
    "\n",
    "and \n",
    "\n",
    "$$x_A + x_B = 1$$\n",
    "\n",
    "so:\n",
    "\n",
    "$$dV_M =  (\\bar{V}_B -\\bar{V}_A)dx_B$$\n",
    "\n",
    "Perhaps an intituitve result, but because this can be done with volume which is state property, it can be done with other state quantities namely, entropy, enthalpy, chemical potential.\n",
    "\n",
    "So how do we isolate and describe this contributory effect?"
   ]
  },
  {
   "cell_type": "markdown",
   "metadata": {
    "deletable": true,
    "editable": true
   },
   "source": [
    "Let's try this: if we start with\n",
    "\n",
    "$$dG = VdP - SdT$$\n",
    "\n",
    "and examine behavior at constant temperature:\n",
    "\n",
    "$$dG = Vdp$$, using and ideal gas, we can say\n",
    "\n",
    "$$dG = Vdp = RT\\frac{dP}{P}$$\n",
    "\n",
    "or \n",
    "\n",
    "$$dG = Vdp = RTd\\ln(p)$$\n",
    "\n",
    "What is the first principle of an ideal gas?  **no molecular interaction**, so\n",
    "\n",
    "$$d\\mu_i = Vdp_i = RTd\\ln(p_i)$$\n",
    "\n",
    "How can we generalize for non-ideal solutions?\n",
    "\n",
    "let's call $p$ a proxy for _fugacity_, $F$\n",
    "\n",
    "(if time aside on fugacity)\n",
    "\n",
    "where\n",
    "\n",
    "$$d\\mu   = Vdp = RTd\\ln(f)$$\n",
    "$$d\\mu_i = Vdp = RTd\\ln(f_i)$$\n",
    "\n",
    "The **activity** of a substance is that ratio of the fugacity in that state to the fugacity in the standard state.\n",
    "\n",
    "$$ a = \\frac{f}{f^0} $$\n",
    "$$ a_i = \\frac{f_i}{f_i^0}$$\n",
    "\n",
    "As always, the standard state is one chosen out of convinience, and as always, what is important with standard states is to be consistent in the basis when examining multicomponent/multispecies systems.\n",
    "\n",
    "\n",
    "Thus, rather than looking at the fugacity when exploring the chemical potential, we reference a standard state and examine it's activity:\n",
    "\n",
    "$$\\mu_i - mu_i^0 = RT\\ln(f_i) - RT\\ln(f_i^0) = RT \\ln(a_i)  $$\n"
   ]
  },
  {
   "cell_type": "markdown",
   "metadata": {
    "deletable": true,
    "editable": true
   },
   "source": [
    "Now we can motivate an **ideal solution**.\n",
    "\n",
    "An ideal solution follows the following relationship\n",
    "\n",
    "$$f_i = x_i f_i^0$$\n",
    "\n",
    "so, this is familiar, because by definition the activity is \n",
    "$$f_i = a_i f_i^0$$\n",
    "\n",
    "thus\n",
    "\n",
    "$$a_i = x_i$$ \n",
    "\n",
    "for an ideal solution. \n",
    "\n",
    "You have likely seen this drevied from Raoult's Law where for an ideal gas\n",
    "\n",
    "$$p_i = x_i p^0_i$$\n",
    "\n",
    "\n",
    "This is imporant becacuse: \n",
    "\n",
    "- can we measure f? \n",
    "- can we measure a? \n",
    "- can we measure x? \n",
    "- can we measure p?\n",
    "\n",
    "How far can we push this?  Let's apply this ideal mix to the Gibbs Duhem Relationship:\n",
    "\n",
    "$$\\sum_i n_i d\\mu_i = 0 =\\sum_i x_i d\\mu_i = \\sum_i x_i d\\ln(a_i)$$\n",
    "\n",
    "Based on the above, for an _ideal solution_ \n",
    "\n",
    "$$d\\ln(a_i) = d\\ln(x_i)$$\n",
    "\n",
    "Is this a function of temperature? No! And that's why we say it's ideal.\n",
    "\n",
    "The fractional nature of the activity is viral, so we can apply to any state property\n",
    "\n",
    "$$H^{\\text{id}} = \\sum_i x_i \\bar{H}_i =  \\sum_i x_i \\bar{H}^0_i$$ \n",
    "$$V^{\\text{id}} = \\sum_i x_i \\bar{V}_i = \\sum_i x_i \\bar{V}^0_i$$ \n",
    "\n"
   ]
  },
  {
   "cell_type": "markdown",
   "metadata": {
    "deletable": true,
    "editable": true
   },
   "source": [
    "So, let's look at the change in chemical potential of a mixuture using activity, per above\n",
    "\n",
    "$$\\mu_i - mu_i^0 = RT\\ln(f_i) - RT\\ln(f_i^0) = RT \\ln(a_i)  $$\n",
    "\n",
    "The chemical potential is also a state propertiy, so\n",
    "\n",
    "$$\\sum_i x_i \\mu_i - \\sum_i x_i  mu_i^0  = RT \\sum_i x_i \\ln(a_i)$$\n",
    "\n",
    "and if ideal, $a = x$, so\n",
    "\n",
    "$$\\sum_i x_i \\mu_i - \\sum_i x_i  mu_i^0  = RT \\sum_i x_i \\ln(x_i)$$\n",
    "\n",
    "and what is the term on the left? well, it's the chemical potential of the mixture, vs. the chemical potential of the species on their own. This can be referred to as the ideal free energy of mixing, or\n",
    "\n",
    "$$\\Delta G^{\\text{mix,id}} = RT \\sum_i x_i \\ln(x_i)$$\n",
    "\n",
    "Always\n",
    "$$\\Delta G^{\\text{mix,id}}  = \\Delta H^{\\text{mix,id}} - T\\Delta S^{\\text{mix,id}}$$, so\n",
    "\n",
    "Ideally, there is no interaction between particles,species, so \n",
    "\n",
    "$$\\Delta H^{\\text{mix,id}}  = 0$$, \n",
    "\n",
    "therefore\n",
    "\n",
    "\n",
    "$$\\Delta S^{\\text{mix,id}}  = -R\\sum_i x_i \\ln(x_i)$$\n",
    "\n"
   ]
  },
  {
   "cell_type": "code",
   "execution_count": 8,
   "metadata": {
    "collapsed": false,
    "deletable": true,
    "editable": true
   },
   "outputs": [
    {
     "name": "stderr",
     "output_type": "stream",
     "text": [
      "/usr/local/lib/python2.7/dist-packages/ipykernel/__main__.py:9: RuntimeWarning: divide by zero encountered in log\n",
      "/usr/local/lib/python2.7/dist-packages/ipykernel/__main__.py:9: RuntimeWarning: invalid value encountered in multiply\n"
     ]
    },
    {
     "data": {
      "image/png": "[encoded data removed]",
      "text/plain": [
       "<matplotlib.figure.Figure at 0x7f85cb93bc90>"
      ]
     },
     "metadata": {},
     "output_type": "display_data"
    }
   ],
   "source": [
    "R = 8.31415 # J/K mol\n",
    "T = 298 # K\n",
    "\n",
    "xa = linspace(0,1,100)\n",
    "xb = 1-xa\n",
    "\n",
    "\n",
    "DeltaHmix = 0 \n",
    "DeltaSmix = - R*(xa*log(xa)+xb*log(xb))\n",
    "DeltaGmix = DeltaHmix - T*DeltaSmix\n",
    "plot(xb,DeltaGmix/(R*T),'k')\n",
    "\n",
    "ylim(-1.5,.4)\n",
    "xlim(0,1)\n",
    "    \n",
    "    \n",
    "ylabel(\"$\\Delta G^{mix}/RT$\")\n",
    "xlabel(\"$x_B$\")    \n",
    "show()"
   ]
  },
  {
   "cell_type": "markdown",
   "metadata": {
    "deletable": true,
    "editable": true
   },
   "source": [
    "So as a system mixes, it is inherently lowering it's free energy due to the maximization of entropy. Hooray!"
   ]
  },
  {
   "cell_type": "markdown",
   "metadata": {
    "deletable": true,
    "editable": true
   },
   "source": [
    "### But most condensed phases are not ideal\n",
    "\n",
    "To deal with this, let's look at a simple binary system that has A and B\n",
    "\n",
    "\n",
    "The bonding stucture can then be, assuming $z$ coordination\n",
    "\n",
    "- AB with $n_{AB}$ and $U_{AB}$\n",
    "- AA with $n_{AA}$ and $U_{AA}$\n",
    "- BB with $n_{BB}$ and $U_{BB}$\n",
    "\n",
    "The enthalpy of solution is\n",
    "\n",
    "$$H = \\sum_i n_i U_i  = n_{AA} U_{AA} + n_{BB} U_{BB} + n_{AB} U_{AB}$$\n",
    "\n",
    "Before the mixture, H for A and B can be taken together via superposition ,so summing bonds over coordination z\n",
    "\n",
    "$$H^0 = \\frac{zN_A x_A}{2}U_{AA}  + \\frac{zN_A x_B}{2}U_{BB}$$\n",
    "\n",
    "What needs to be accounted for is the bonds that break to for AB, so\n",
    "\n",
    "$$H^\\text{mix} = H-H^0 = zNA x_Ax_B \\Delta U$$\n",
    "\n",
    "where $$\\Delta U = U_{AB}-\\frac{1}{2}(U_{AA}+U_{BB}) $$\n",
    "\n",
    "What this tells is is this: if there is a significant change in the potential of the bond as a result of a new bond AB, the enthalpy of mixing will prevent the bond from forming, or aid in the bond forming.  \n",
    "\n",
    "we can then re-write this as $\\alpha$ where\n",
    "\n",
    "$$\\alpha = \\frac{zN_A\\delta U}{RT} $$, so\n",
    "\n",
    "$$\\Delta H^\\text{mix} =RT \\alpha x_A x_B$$\n",
    "\n",
    "so we can now take our entropy of mixing for the ideal case and add a non-ideal enthalpy of mixing such that\n",
    "\n",
    "$$\\Delta G^{\\text{mix}}  = \\Delta H^{\\text{mix}} - T\\Delta S^{\\text{mix,id}}$$, so\n",
    "\n",
    "Let's see what $\\alpha$ does for us\n"
   ]
  },
  {
   "cell_type": "code",
   "execution_count": 3,
   "metadata": {
    "collapsed": false,
    "deletable": true,
    "editable": true
   },
   "outputs": [
    {
     "name": "stderr",
     "output_type": "stream",
     "text": [
      "/usr/local/lib/python2.7/dist-packages/ipykernel/__main__.py:7: RuntimeWarning: divide by zero encountered in log\n",
      "/usr/local/lib/python2.7/dist-packages/ipykernel/__main__.py:7: RuntimeWarning: invalid value encountered in multiply\n"
     ]
    },
    {
     "data": {
      "image/png": "[encoded data removed]",
      "text/plain": [
       "<matplotlib.figure.Figure at 0x7f85cbaa2150>"
      ]
     },
     "metadata": {},
     "output_type": "display_data"
    }
   ],
   "source": [
    "\n",
    "figure(figsize=(10,5))\n",
    "for i in [-2,-1,0,1,2,3.5]:\n",
    "    alpha = i\n",
    "\n",
    "    DeltaHmix =  R*T*alpha*xa*xb\n",
    "    DeltaSmix = - R*(xa*log(xa)+xb*log(xb))\n",
    "    DeltaGmix = DeltaHmix - T*DeltaSmix\n",
    "\n",
    "    Gmm = (DeltaGmix)/(R*T)\n",
    "    color = 'k'\n",
    "    if i == 0: color ='r'\n",
    "    plot(xb,Gmm,color)\n",
    "    mid = Gmm[len(Gmm)/2]\n",
    "    annotate('$\\\\alpha = $%.1f'%i,xy=(.5,mid+.02),ha='center')\n",
    "\n",
    "ylim(-1.5,.4)\n",
    "xlim(0,1)\n",
    "    \n",
    "    \n",
    "ylabel(\"$\\Delta G^{mix}/RT$\")\n",
    "xlabel(\"$x_B$\")    \n",
    "show()"
   ]
  },
  {
   "cell_type": "markdown",
   "metadata": {
    "collapsed": true,
    "deletable": true,
    "editable": true
   },
   "source": [
    "What does 🔼   mean?"
   ]
  },
  {
   "cell_type": "markdown",
   "metadata": {
    "deletable": true,
    "editable": true
   },
   "source": [
    "## Hertzberg Paper Ties Much Of This Together\n",
    "\n",
    "\n",
    "Problem: many potential reactions\n",
    "\n",
    "- H into MnO2 OK\n",
    "- Li into MnO2, OK\n",
    "- K into MnO2, OK, but solvation makes singificant insertion ulikely\n",
    "- Zn in to MnO2, happens readily but not OK, irreversible\n",
    "\n",
    "- Multiple coordinations create a series of different cystal structures\n",
    "\n",
    "- The goal in this paper was to guide the most reversible pathways at the highest potential for the largest extent of reaction\n",
    "\n",
    "- We ignored, for the most part, solute interaction, and only looked at invidual solvent - solute interactions, where the solute/solvent was both the electrolyte/ion and the atom/MnO2\n",
    "\n",
    "\n",
    "- Ultimately a combination of making sure conductivity was good and the right miexture oflions created the most stable path: indicates that the Zn poisoning is not faradaic\n",
    "\n",
    "\n"
   ]
  }
 ],
 "metadata": {
  "kernelspec": {
   "display_name": "Python 2",
   "language": "python",
   "name": "python2"
  },
  "language_info": {
   "codemirror_mode": {
    "name": "ipython",
    "version": 2
   },
   "file_extension": ".py",
   "mimetype": "text/x-python",
   "name": "python",
   "nbconvert_exporter": "python",
   "pygments_lexer": "ipython2",
   "version": "2.7.12"
  }
 },
 "nbformat": 4,
 "nbformat_minor": 2
}
