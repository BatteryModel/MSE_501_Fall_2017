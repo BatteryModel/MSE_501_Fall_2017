{
 "cells": [
  {
   "cell_type": "markdown",
   "metadata": {
    "deletable": true,
    "editable": true
   },
   "source": [
    "## Review of Everything to Date\n",
    "\n",
    "- Lecture 1: Material properties are determined by the nature and arrangement of bonds\n",
    "- Lecture 2: Bond lengths are determined by an analysis of the attractive and repulsive forces between atoms, bond directionality is determined by the nature of the bond itself and the extento which orbital dimensions influence electron sharing. A relatively simple force balance model can be used to estimate mechanical and thermal behavior of materials\n",
    "- Lecture 3: The strong preference for a specific bond length indicates that atoms will arrange themselves in a way such that they mutually share the correct distance. This sets up structure and motivates the needs to describe lattices and symmetries\n",
    "\n",
    "Today: So how do we define and probe these symmetries"
   ]
  },
  {
   "cell_type": "markdown",
   "metadata": {
    "deletable": true,
    "editable": true
   },
   "source": [
    "## Defects\n",
    "\n",
    "At what point is a crystal the most \"determined\" -> 0 K\n",
    "\n",
    "As we heat bonds up what happens? -> there become two \"happy\" places in the potential well\n",
    "\n",
    "There is a probability introduced by this that an atom is \"missing\" from the lattice that scales as\n",
    "\n",
    "$$n = n_0 \\exp \\left(\\frac{-U}{kT}\\right)$$"
   ]
  },
  {
   "cell_type": "markdown",
   "metadata": {
    "deletable": true,
    "editable": true
   },
   "source": [
    "## Crystal Indicies\n",
    "\n",
    "So, critical to our understanding of bonding _at equilibrium_ is the ability to example crystal structures, and atomic positions.  Crystal indices are the notation we use to do this.\n",
    "\n",
    "We use the notations _u_, _v_, _w_ to denote the 3 vectors of cystal, and they are of spaces _a_,_b_ and _c_,  such that we have spacings \n",
    "\n",
    "$$u\\times a,v\\times b,w\\times c $$\n",
    "\n",
    "This allows us, based on out directions outlined way back, to note that equal indicies do not note equal displacements: everything is normalized against the lengths in the unit cell.\n",
    "\n",
    "When describing a _vector_ in a unit cell we can decribe a line \n",
    "\n",
    "$$[\\frac{1}{2}\\frac{1}{2}1]$$ but in general the smallest notation of whole numbers is preferred, $$[112]$$ rather than say the equivalent $$[224]$$\n",
    "\n",
    "Based on our discussion above, in many crystals will have equivalencies, such that the vectures in a system (say, simple cubic)\n",
    "\n",
    "$$[111],[1\\bar{1}1],[\\bar{1}\\bar{1}1],[\\bar{1}11]$$\n",
    "\n",
    "can be further reduced to\n",
    "\n",
    "$$< 111 >$$\n",
    "\n",
    "We can then define _planes_ by the miller indices _h_,_k_, and _l_ where a plane intersecting _x_ at 1/_h_, _y_ at 1/_k_, _z_ at 1/_l_ is described by \n",
    "$$(hkl)$$ and hexagnol planes add an _i_ so $$(hkil)$$such that $$h+k=-i$$\n",
    "\n",
    "and so like vectors, planes of a form can be described by $$\\{hkl\\}$$ so\n",
    "$$(100), (010), (\\bar{1}00), (0\\bar{1}0), (001), (00\\bar{1})$$\n",
    "can all be be described by $$\\{100\\}$$\n",
    "\n",
    "## Spacing in Crystals\n",
    "\n",
    "System      |Spacing Between Planes\n",
    "--          | --\n",
    "Cubic       | $\\frac{1}{d^2} = \\frac{h^2+k^2+l^2}{a^2}$\n",
    "Tetragonal  | $\\frac{1}{d^2} = \\frac{h^2+k^2}{a^2}+\\frac{l^2}{c^2}$\n",
    "Hexagonal   | $\\frac{1}{d^2} = \\frac{4}{3}\\frac{h^2+hk+k^2}{a^2}+\\frac{l^2}{c^2}$\n",
    "Rhombohedral| $\\frac{1}{d^2} = \\frac{(h^2+k^2+l^2)\\sin^2\\alpha + 2(hk+kl+hl)(\\cos^2 \\alpha-\\cos \\alpha)}{a^2(1-3\\cos^2\\alpha+2\\cos^3\\alpha)}$\n",
    "Orthorhombic| $\\frac{1}{d^2} = \\frac{h^2}{a^2}+\\frac{k^2}{b^2}+\\frac{l^2}{c^2}$\n",
    "\n",
    "\n",
    "\n",
    "## Metallic Crystalls\n",
    "\n",
    "Because of the lack of strong directional forces on bonding, most pure metals form BCC,FCC and HCP structures.\n",
    "\n",
    "### FCC Metals\n",
    "\n",
    "How many atoms per unit cell? (4)\n",
    "$\\gamma$-Fe,Al,Ni,Cu,Pt,Au\n",
    "\n",
    "### HCP Metals\n",
    "\n",
    "How many atoms per unit cell? (2)\n",
    "$\\alpha$-Ti,Mg,Be,Zr,Zn\n",
    "\n",
    "\n",
    "### BCC Metals\n",
    "\n",
    "W,V,Cr,$\\alpha$-Fe\n",
    "\n"
   ]
  },
  {
   "cell_type": "markdown",
   "metadata": {
    "collapsed": true,
    "deletable": true,
    "editable": true
   },
   "source": [
    "## Back to basics:\n",
    "\n",
    "What order of magnitude is a bond length?\n",
    "\n",
    "Angstroms.\n",
    "\n",
    "So how can we _see_ the distance between bonds?  Can we use a really bright light?\n",
    "\n",
    "Not one we can see.\n",
    "\n",
    "<img src=\"https://upload.wikimedia.org/wikipedia/commons/c/cf/EM_Spectrum_Properties_edit.svg\">\n"
   ]
  },
  {
   "cell_type": "markdown",
   "metadata": {
    "deletable": true,
    "editable": true
   },
   "source": [
    "So we see that x-rays are just about right, fitting in well between the spaces left between bonds. But does an x-ray interfere with an electron?"
   ]
  },
  {
   "cell_type": "markdown",
   "metadata": {
    "deletable": true,
    "editable": true
   },
   "source": [
    "The other way: we use electrons to generate xrays.\n",
    "\n",
    "<img src=\"https://drops.steingart.princeton.edu/MSE501_Fall_2017/Images/ka_sandia.gif\">\n",
    "    "
   ]
  },
  {
   "cell_type": "markdown",
   "metadata": {
    "deletable": true,
    "editable": true
   },
   "source": [
    "When an electron approaches an atom with sufficient momentum it causes an inner electron to be knocked out, allowing a third electron to drop to a lower energy state. When this happens it ejects an x-ray. Note that not all collisions cause this to happen, but when this does happen the energy and wavelength of the ejected xray are singificantly higher at a specific length, making it ideal for probing structure -> Why?"
   ]
  },
  {
   "cell_type": "markdown",
   "metadata": {
    "deletable": true,
    "editable": true
   },
   "source": [
    "The energy of the x-ray goes as \n",
    "\n",
    "$$eV= \\frac{mv^2}{2} = \\frac{hc}{\\lambda_{SWL}}$$\n",
    "\n",
    "where the minium wavelength is defined by:\n",
    "\n",
    "$$\\lambda_{SWL}(A) = \\frac{12,400}{V}$$\n",
    "\n",
    "and the white radiation intensity is \n",
    "\n",
    "$$I_{wh}=AiZV^m$$\n",
    "\n",
    "where $A$ is a constant and $m$ is about 2.  \n",
    "\n",
    "This radiation is _not_ particularly useful for us, because it provides a curve as follows\n",
    "\n",
    "<img src=\"https://drops.steingart.princeton.edu/MSE501_Fall_2017/Images/Lecture04/ka_example.png\">\n"
   ]
  },
  {
   "cell_type": "markdown",
   "metadata": {
    "collapsed": true,
    "deletable": true,
    "editable": true
   },
   "source": [
    "After a critical applied potential (in this case, 25 kV), two sharp peaks can be seen at $\\lambda = K_{\\alpha}$ and $\\lambda = K_{\\beta}$ as the potential is increased, the relative intensity of these peaks increases, but the wavelength does not change\n",
    "\n",
    "<img src=\"https://drops.steingart.princeton.edu/MSE501_Fall_2017/Images/Lecture04/ka_zoom_example.png\">\n",
    "\n",
    "This is quite a sharp peak, where the full width at half maximum (FWHM) is 0.001 Å. The terminology $K_\\alpha$ comes from distance the electron falls ($\\alpha = 1$) and the shell it lands ($K$)\n",
    "\n",
    "<img src=\"https://drops.steingart.princeton.edu/MSE501_Fall_2017/Images/Lecture04/ka_origin.png\">\n",
    "\n",
    "If the energy of $K_\\alpha < K_\\beta$, why is the intensity of $K_\\alpha > K_\\beta$?"
   ]
  },
  {
   "cell_type": "markdown",
   "metadata": {
    "deletable": true,
    "editable": true
   },
   "source": [
    "A material can allow Xrays to pass, but it is not without interactions.  We model the intensity of an x-ray as a function of the distance it travels x as\n",
    "\n",
    "$$I(x) = I_0 e^{-\\mu x}$$\n",
    "\n",
    "Where $\\mu$ is the linear absorption coefficient and proportional to the density $\\rho$.\n",
    "\n",
    "Back to that $K$ peak.  What do we think the impact is on a given material?"
   ]
  },
  {
   "cell_type": "markdown",
   "metadata": {
    "deletable": true,
    "editable": true
   },
   "source": [
    "## Note To ME: check out XRAY DB"
   ]
  },
  {
   "cell_type": "markdown",
   "metadata": {
    "deletable": true,
    "editable": true
   },
   "source": [
    "## Can An X-Ray Hit an Electron?\n",
    "\n",
    "Yes.  Does something happen? Also yes.  It depends on where the electron is.\n",
    "\n",
    "If the electron is tightly bound,the electron is not displace and the xray is reflected at the same frequency. This is called **coherent radiation**.\n",
    "\n",
    "\n",
    "If the x-ray hits a loosely bound electron it can eject it, and this is called the **compton effect**. Eventually an x-ray is produced, but this is now of a different wavelength depending on the interaction, and this does not help our effort. In fact, it adds **background noise**.\n",
    "\n"
   ]
  },
  {
   "cell_type": "markdown",
   "metadata": {
    "deletable": true,
    "editable": true
   },
   "source": [
    "## We Have Our Xrays, now let's figure out what this structure is\n",
    "\n",
    "<img src=\"https://drops.steingart.princeton.edu/MSE501_Fall_2017/Images/Lecture04/bragg_like_what.png\">\n",
    "\n"
   ]
  },
  {
   "cell_type": "markdown",
   "metadata": {
    "deletable": true,
    "editable": true
   },
   "source": [
    "When an xray is scattered in a crystal, the atom itself will impact how the xray is scattered, as will the position of the atoms with respect to one another. How do you think each will affect the signal\n",
    "\n",
    "The atom itself will impact scattered intensity\n",
    "\n",
    "The atom and the lattice sets the crystal structure, and this determine whether or not we can get constructive interference.\n",
    "\n",
    "Let's use the above figure to develop a relationship to determine this structure factor.\n",
    "\n",
    "\n",
    "\n",
    "<img src=\"https://drops.steingart.princeton.edu/MSE501_Fall_2017/Images/Lecture04/structure_factor_start.png\">\n",
    "\n",
    "\n",
    "If an incident ray 1 leads to 1' at A, and 2 leads to 2' at C, we can find the wavelength which equals this via  \n",
    "\n",
    "$$\\delta_{2'1'} = \\text{MCN} = 2d_{h00}\\sin(\\theta)=\\lambda$$\n",
    "\n",
    "so what is the phase difference caused by some atom B in the field? Based on the above we can consider\n",
    "\n",
    "$$\\delta_{3'1'} = \\text{RBS} = \\left(\\frac{\\text{AB}}{\\text{AC}}\\right)\\lambda = \\left(\\frac{x}{a/h}\\right) \\lambda$$\n",
    "\n",
    "and specify a phase angle difference \n",
    "\n",
    "$$\\phi = \\frac{2\\pi\\delta}{\\lambda}$$\n",
    "\n",
    "so \n",
    "\n",
    "$$\\phi_{3'1'} = \\frac{2\\pi\\delta_{3'1'}}{\\lambda} = \\frac{2\\pi h x}{a}= 2\\pi h u$$\n",
    "\n",
    "we like the final form for now because we want to figure out, regardless of wavelength, if we can expect a reflection.\n",
    "\n",
    "So in 3 dimensions:\n",
    "\n",
    "$$\\phi = 2\\pi (hu+kv+lw)$$\n",
    "\n",
    "**for a cell of any shape**\n",
    "\n",
    "the wave then scatters with a factor of \n",
    "\n",
    "$$Ae^{i\\phi} = f\\exp(2\\pi i (hu+kv+lw))$$\n",
    "\n",
    "$$F_{\\text{hkl}} = \\sum_{n=1}^N f_n exp(2\\pi i (hu_n+kv_n+lw_n))$$\n",
    "\n",
    "and this sets up the relationship for where we might see peaks.....\n",
    "\n",
    "effectively: \n",
    "\n",
    "\n"
   ]
  },
  {
   "cell_type": "code",
   "execution_count": 63,
   "metadata": {
    "collapsed": false,
    "deletable": true,
    "editable": true
   },
   "outputs": [],
   "source": [
    "## Simple Structure Factor Finder\n",
    "%matplotlib inline\n",
    "import sys\n",
    "sys.path.append(\"/pithy/code\")\n",
    "from pithy import *\n",
    "\n",
    "def sf(vec):\n",
    "    runner = 0\n",
    "    for v in vec:\n",
    "        v = array(v)\n",
    "        print v,real(exp(2*pi*1j*sum(v)))\n",
    "        runner += real(exp(2*pi*1j*sum(v)))\n",
    "    return runner\n",
    "\n",
    "\n"
   ]
  },
  {
   "cell_type": "markdown",
   "metadata": {
    "collapsed": true,
    "deletable": true,
    "editable": true
   },
   "source": [
    "### FCC\n",
    "\n",
    "FCC can be considered of the form A where\n",
    "\n",
    "$$F_{\\text{hkl}} = \\sum_{n=1}^N f_n \\exp(2\\pi i (hu_n+kv_n+lw_n))$$\n",
    "\n",
    "$$u_A=0,v_A=0,w_A=0$$\n",
    "\n",
    "$$u_B=\\frac{1}{2},v_B=\\frac{1}{2},w_B=0$$\n",
    "\n",
    "$$u_C=0,v_C=\\frac{1}{2},w_C=\\frac{1}{2}$$\n",
    "\n",
    "$$u_D=\\frac{1}{2},v_C=0,w_C=\\frac{1}{2}$$\n",
    "\n",
    "\n",
    "\n",
    "$$F= f [\\exp(2\\pi i(0))+ \\exp(2\\pi i (\\frac{h}{2}+\\frac{k}{2}+0)) + \\exp(2\\pi i (\\frac{h}{2}+0+\\frac{l}{2})) + \\exp(2\\pi i (0+\\frac{k}{2}+\\frac{l}{2}))]$$\n",
    "\n",
    "$$F= f [1+ \\exp(\\pi i (h+k)+\\exp(\\pi i (k+l)+\\exp(\\pi i (h+l)]$$\n",
    "\n",
    "\n",
    "so if \n",
    "- $h,k,l=\\text{all even all odd}$ we should get a peak (4f)\n",
    "- $h,k,l=\\text{mixed}$ we should not get a peak (0)\n",
    "\n"
   ]
  },
  {
   "cell_type": "code",
   "execution_count": 66,
   "metadata": {
    "collapsed": false,
    "deletable": true,
    "editable": true
   },
   "outputs": [
    {
     "name": "stdout",
     "output_type": "stream",
     "text": [
      "[0 0 0] 1.0\n",
      "[ 0.   0.5  0.5] 1.0\n",
      "[ 0.5  0.5  0. ] 1.0\n",
      "[ 0.5  0.   0.5] 1.0\n"
     ]
    },
    {
     "data": {
      "text/plain": [
       "4.0"
      ]
     },
     "execution_count": 66,
     "metadata": {},
     "output_type": "execute_result"
    }
   ],
   "source": [
    "## So let's try it out\n",
    "a = [0,0,0]\n",
    "b = [0,.5,.5]\n",
    "c = [.5,.5,0]\n",
    "d = [.5,0,.5]\n",
    "\n",
    "\n",
    "s = [a,b,c,d] #s for set\n",
    "sf(s)"
   ]
  },
  {
   "cell_type": "markdown",
   "metadata": {
    "deletable": true,
    "editable": true
   },
   "source": [
    "### BCC\n",
    "\n",
    "BCC can be considered of the form A,B where A = [0 0 0] and B = [1/2 1/2 1/2], so for any rotation we can say that\n",
    "\n",
    "$$F_{\\text{hkl}} = \\sum_{n=1}^N f_n \\exp(2\\pi i (hu_n+kv_n+lw_n))$$\n",
    "\n",
    "$$u_1=0,v_1=0,w_1=0$$\n",
    "\n",
    "$$u_2=\\frac{1}{2},v_2=\\frac{1}{2},w_2=\\frac{1}{2}$$\n",
    "\n",
    "$$F= f [\\exp(2\\pi i(0))+ \\exp(2\\pi i (\\frac{h}{2}+\\frac{k}{2}+\\frac{l}{2}))]$$\n",
    "\n",
    "$$F= f [1+ \\exp(\\pi i (h+k+l)]$$\n",
    "\n",
    "\n",
    "so if \n",
    "- $h+k+l=\\text{even}$ we should get a peak\n",
    "- $h+k+l=\\text{odd}$ we should not get a peak\n",
    "\n",
    "\n"
   ]
  },
  {
   "cell_type": "code",
   "execution_count": 67,
   "metadata": {
    "collapsed": false,
    "deletable": true,
    "editable": true
   },
   "outputs": [
    {
     "name": "stdout",
     "output_type": "stream",
     "text": [
      "[0 0 0] 1.0\n",
      "[ 0.5  0.5  0.5] -1.0\n"
     ]
    },
    {
     "data": {
      "text/plain": [
       "0.0"
      ]
     },
     "execution_count": 67,
     "metadata": {},
     "output_type": "execute_result"
    }
   ],
   "source": [
    "## So let's try it out\n",
    "a = [0,0,0]\n",
    "b = [.5,.5,.5]\n",
    "s = [a,b] #s for set\n",
    "sf(s)"
   ]
  },
  {
   "cell_type": "markdown",
   "metadata": {
    "deletable": true,
    "editable": true
   },
   "source": [
    "### Simple Cubic\n",
    "\n",
    "\n",
    "$$F_{\\text{hkl}} = \\sum_{n=1}^N f_n \\exp(2\\pi i (hu_n+kv_n+lw_n))$$\n",
    "\n",
    "$$u_1=0,v_1=0,w_1=0$$\n",
    "\n",
    "$$u_2=1,v_2=0,w_2=0$$\n",
    "\n",
    "$$F= f [\\exp(2\\pi i(0))+ \\exp(2\\pi i h)]$$\n",
    "\n",
    "$$F= f [1+ \\exp(\\pi i (2h)]$$\n",
    "\n",
    "2 times _anything_ is even, so.....\n",
    "\n"
   ]
  },
  {
   "cell_type": "code",
   "execution_count": 43,
   "metadata": {
    "collapsed": false,
    "deletable": true,
    "editable": true
   },
   "outputs": [
    {
     "data": {
      "text/plain": [
       "2.0"
      ]
     },
     "execution_count": 43,
     "metadata": {},
     "output_type": "execute_result"
    }
   ],
   "source": [
    "## So let's try it out\n",
    "a = [0,0,0]\n",
    "b = [1,0,0]\n",
    "s = [a,b] #s for set\n",
    "sf(s)"
   ]
  },
  {
   "cell_type": "markdown",
   "metadata": {
    "deletable": true,
    "editable": true
   },
   "source": [
    "## So Now We Have a Sense Of What We Might See\n",
    "\n",
    "So how do we use this? \n",
    "\n",
    "well, the _simplest mechanism_ is shoot _white_ xrays at the sample in question and capture a full spectrum. Either in forward or backscatter.\n",
    "\n",
    "<img src=\"https://drops.steingart.princeton.edu/MSE501_Fall_2017/Images/Lecture04/l_forward.png\">\n",
    "\n",
    "<img src=\"https://drops.steingart.princeton.edu/MSE501_Fall_2017/Images/Lecture04/l_backward.png\">\n",
    "\n",
    "\n",
    "and the resultant image, for a single crystal, might look look like\n",
    "\n",
    "<img src=\"http://multiwire.com/images/Si%20110%20-%20Collected%20256%20Mode%20-%20Border.gif\">\n",
    "[110] Silicon from http://multiwire.com/index.shtml\n",
    "\n",
    "\n",
    "For a polycrystalline sample what would we see?\n",
    "\n",
    "rings.  Might look like this:\n",
    "\n",
    "<img src=\"https://drops.steingart.princeton.edu/MSE501_Fall_2017/Images/Lecture04/Ni_back.png\">\n",
    "\n",
    "from [doi: 10.1149/2.037403jes](http://jes.ecsdl.org/content/161/3/A275.abstract)\n",
    "\n",
    "So, how did I assign the rings with this?\n",
    "\n",
    "Let's start with Bragg's law which says\n",
    "\n",
    "$$ n\\lambda = 2d\\sin(\\theta)$$\n",
    "\n",
    "where we related $d$ to the lattice parameters above.\n",
    "\n",
    "For a cubic system:\n",
    "\n",
    "$$\\frac{1}{d^2} = \\frac{h^2+k^2+l^2}{a^2}$$\n",
    "\n",
    "so we can regoranize Bragg's law such that\n",
    "\n",
    "$$\\sin^2(\\theta) = \\frac{\\lambda^2(h^2+k^2+l^2)}{4a^2} = \\frac{s\\lambda^2}{4a^2}$$\n",
    "\n",
    "For the above example, it might be useful to consider a fixed angle theta (typically 3˚ or so in practice) and example what will show up as we \"sweep\" $\\lambda$ (remember, white radiation).\n",
    "\n",
    "$$\\lambda^2 = \\frac{4a^2\\sin^2(\\theta)}{s}$$\n",
    "\n",
    "Now, white radiation is hard to come by, so we use our handy $k_{\\alpha}$ xray generator (monochromatic, and instead change the angle.  \n",
    "\n",
    "<img src=\"http://www-crismat.ensicaen.fr/IMG/image/cristallographie/bragg-brentano_D8_en(1).jpg\">\n",
    "\n",
    "[source](http://www-crismat.ensicaen.fr/spip.php?article478&lang=en)\n",
    "\n",
    "Let's see how we can fit peaks with this\n",
    "\n"
   ]
  },
  {
   "cell_type": "code",
   "execution_count": 74,
   "metadata": {
    "collapsed": false,
    "deletable": true,
    "editable": true
   },
   "outputs": [
    {
     "data": {
      "image/png": "[encoded data removed]",
      "text/plain": [
       "<matplotlib.figure.Figure at 0x7fb8d2b8fb90>"
      ]
     },
     "metadata": {},
     "output_type": "display_data"
    }
   ],
   "source": [
    "import sys\n",
    "\n",
    "sys.path.append(\"/pithy/code\")\n",
    "sys.path.append(\"/pithy/files/pylattice\")\n",
    "\n",
    "#import above\n",
    "from pithy import *\n",
    "from lattice import *\n",
    "import libruff\n",
    "#jupyter magic call\n",
    "%matplotlib inline\n",
    "\n",
    "\n",
    "#Try to make our own lattice\n",
    "\n",
    "for parameter in [5,7]:\n",
    "    v1 = parameter*array([0,.5,.5]) \n",
    "    v2 = parameter*array([.5,0,.5])\n",
    "    v3 = parameter*array([.5,.5,0])\n",
    "\n",
    "    lattice = Lattice(v1,v2,v3)\n",
    "    basis = Basis([('Fe',[0,0,0])], l_const=parameter)\n",
    "    crystal = lattice + basis\n",
    "\n",
    "    scattering_data = powder_XRD(crystal, 1.5405)\n",
    "    angles, values = spectrumify(scattering_data)\n",
    "    plot(angles, values)\n",
    "\n",
    "    \n",
    "title(r'Simulated Powder XRD of FCC Fe, $\\lambda = 1.5405$')\n",
    "xlabel(r'$2\\theta$')\n",
    "ylabel(r'Scattering Intensity per Cubic Angstrom')\n",
    "show()\n",
    "\n"
   ]
  },
  {
   "cell_type": "code",
   "execution_count": 71,
   "metadata": {
    "collapsed": false,
    "deletable": true,
    "editable": true,
    "scrolled": true
   },
   "outputs": [
    {
     "data": {
      "image/png": "[encoded data removed]",
      "text/plain": [
       "<matplotlib.figure.Figure at 0x7fb8d2d96a10>"
      ]
     },
     "metadata": {},
     "output_type": "display_data"
    }
   ],
   "source": [
    "parameter =  5.63\n",
    "#make an FCC lattice\n",
    "v1 = parameter*array([0,.5,.5]) \n",
    "v2 = parameter*array([.5,0,.5])\n",
    "v3 = parameter*array([.5,.5,0])\n",
    "lattice = Lattice(v1,v2,v3)\n",
    "\n",
    "#set the NaCl basis\n",
    "basis = Basis([('Cl',[0,0,0]),\n",
    "               ('Na',[0.5,0.5,0.5])],\n",
    "              l_const=parameter)\n",
    "\n",
    "#make crystal\n",
    "crystal = lattice + basis\n",
    "\n",
    "# Plot a simulated XRD with copper radiation\n",
    "\n",
    "figure(figsize=(15,5))\n",
    "scattering_data = powder_XRD(crystal, 1.5405)\n",
    "angles, values = spectrumify(scattering_data)\n",
    "plot(angles, values,label='simulation')\n",
    "\n",
    "# Get real salt from database\n",
    "rd = libruff.get(\"Halite__R070292-1__Powder__Xray_Data_XY_RAW__8525\") #\n",
    "angles = rd['CELL PARAMETERS']['theta']\n",
    "values = rd['CELL PARAMETERS']['counts']\n",
    "values = values/max(values) +1 #normalized data\n",
    "plot(angles,values,label=\"Experiment\")\n",
    "\n",
    "\n",
    "# Add some more info to the plot\n",
    "title(r'Simulated Powder XRD of NaCl, $\\lambda = 1.5405$')\n",
    "xlabel(r'$2\\theta$')\n",
    "ylabel(r'Scattering Intensity per Cubic Angstrom')\n",
    "legend()\n",
    "show()\n"
   ]
  },
  {
   "cell_type": "markdown",
   "metadata": {
    "deletable": true,
    "editable": true
   },
   "source": [
    "## Further exploration of X Ray spectra\n",
    "\n",
    "### Estimating crystal size\n",
    "\n",
    "We are using the crystal as a diffraction grating, correct? So imagine there is some slop to our incident beams like\n",
    "\n",
    "<img src=\"https://drops.steingart.princeton.edu/MSE501_Fall_2017/Images/Lecture04/scherrerstarter.png\">\n",
    "\n",
    "For smaller crystals, the off angle beams are less filtered so....\n",
    "\n",
    "If we look at a peak carefully we see that is has some width. What can we do with this?\n",
    "\n",
    "<img src=\"https://drops.steingart.princeton.edu/MSE501_Fall_2017/Images/Lecture04/scherrer_eq.png\">\n",
    "\n",
    "If we estimate that the peak is a triangle, we see that\n",
    "\n",
    "$$B \\approx (2\\theta_1-2\\theta_2)/2 = \\theta_1-\\theta_2$$\n",
    "\n",
    "the path length is then\n",
    "\n",
    "$$t[\\sin(\\theta_1)+\\sin(\\theta_s)] = 2t\\left[\\cos\\left(\\frac{\\theta_1+\\theta_2}{2}\\right)\\sin\\left(\\frac{\\theta_1+\\theta_2}{2}\\right)\\right]=\\lambda$$\n",
    "\n",
    "these angles are very close so we can approximate with $$\\theta_1+\\theta_2 = 2\\theta_B$$ so\n",
    "\n",
    "$$t = \\frac{\\lambda}{B\\cos(\\theta_B)}$$\n",
    "\n",
    "If we fudge a bit less, we get the **Scherrer Equation**,\n",
    "\n",
    "$$t = \\frac{0.9\\lambda}{B\\cos(\\theta_B)}$$\n",
    "\n",
    "So, the wider B is, smaller the crystal is\n"
   ]
  }
 ],
 "metadata": {
  "kernelspec": {
   "display_name": "Python 2",
   "language": "python",
   "name": "python2"
  },
  "language_info": {
   "codemirror_mode": {
    "name": "ipython",
    "version": 2
   },
   "file_extension": ".py",
   "mimetype": "text/x-python",
   "name": "python",
   "nbconvert_exporter": "python",
   "pygments_lexer": "ipython2",
   "version": "2.7.12"
  }
 },
 "nbformat": 4,
 "nbformat_minor": 2
}
