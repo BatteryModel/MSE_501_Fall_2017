{
 "cells": [
  {
   "cell_type": "markdown",
   "metadata": {
    "deletable": true,
    "editable": true
   },
   "source": [
    "# Lecture 6: Abstracting Behavior\n",
    "---\n",
    "## Lightning Review\n",
    "- Lecture 1: Bonds define a material\n",
    "- Lecture 2: Bonds seek an equilibrium\n",
    "- Lecture 3: Equilibirum (generally) seeks order.\n",
    "- Lecture 4: Ordered materials can be probed by Xrays\n",
    "- Lecture 5: One has to be thorough when checking crystals\n",
    "\n"
   ]
  },
  {
   "cell_type": "markdown",
   "metadata": {
    "deletable": true,
    "editable": true
   },
   "source": [
    "## If Crystals Are About Lowest Energy States, something, something, Thermo\n",
    "\n",
    "Does thermo apply to everything?  Of course it does.  What kind of question is that? \n",
    "\n",
    "Let's review"
   ]
  },
  {
   "cell_type": "markdown",
   "metadata": {
    "deletable": true,
    "editable": true
   },
   "source": [
    "### Basic Definitions\n",
    ">- System: The portion of the universe considered\n",
    "- State property: Property of a system that depends on the value of certain variables (e.g., temperature and pressure), independent of the history of the sample Extensive property: Additive property (e.g., mass, volume, energy)\n",
    "- Intensive property: Property that has value at each point in the system (e.g., temperature, pressure, density)\n",
    "- Equation of state: Relation between state variables , usually of the form V = V (P, T)\n",
    "- Homogeneous: Uniform in temperature (T), pressure (P), composition, structure\n",
    "- Phase: Homogeneous part of a system\n",
    "- State: Condition of a system as described by its state properties (and, if out of equilibrium, by its history)\n",
    "- Equilibrium: Condition characterized by uniform state variables (i.e., no gradients in T, P, composition)\n",
    " - Mechanical equilibrium: If the force varies along the boundary of the system, then one cannot express the work done using only p dV, but then the system is not in mechanical equilibrium. The system is in mechanical equilibrium if p is uniform everywhere (so that every volume element experiences zero net force)\n",
    " - Thermal equilibrium: Heat does not flow if T is uniform, so thermal equilibrium prevails when no temperature gradients are present\n",
    " - Chemical equilibrium: Chemical equilibrium exists when chemical or atomic forces do not tend to move any constituent from one phase to another\n",
    " - Thermodynamic equilibrium exists when mechanical, thermal, and chemical equilibria prevail\n",
    "- Energy (definition due to Lord Kelvin, 1851): “The energy of a material system is the sum, expressed in mechanical units of work, of all the effects which are produced outside the system when the system is made to pass in any manner from the state in which it happens to be to a certain arbitrarily fixed initial (standard) state.”\n",
    "- Process: Transition of a system from one state to another\n",
    " - Adiabatic Process: Process involving no exchange of heat between the system and its surroundings \n",
    " - Isothermal Process: Process performed at constant T\n",
    " - Reversibility: A reversible process passes through a sequence of equilibrium states"
   ]
  },
  {
   "cell_type": "markdown",
   "metadata": {
    "deletable": true,
    "editable": true
   },
   "source": [
    "### The First Law of Thermodynamics\n",
    "\n",
    "Tells us that all energy must be conserved. A complete, closed form of the first law can be described as \n",
    "\n",
    "$$Q-W = \\Delta E + \\Delta PE + \\Delta KE $$\n",
    "\n",
    "Where \n",
    "\n",
    "- $Q$ is the heat goining into a system (positive in)\n",
    "- $W$ is the work being done by the system on the universe (positive out)\n",
    "- $\\Delta E$ is the change in internal energy of the system\n",
    "- $\\Delta PE$ is the change in potential energy of the system\n",
    "- $\\Delta KE$ is the change in kinetic energy of the system\n",
    "\n",
    "Generally we don't consider our system (e.g. the material) flying through the air so $\\Delta PE$ and $\\Delta KE$ are 0'd out, leaving\n",
    "\n",
    "$$Q-W = \\Delta E$$\n",
    "\n",
    "heat is always heat, but work in this context can take a number of forms:\n",
    "\n",
    "- $pdV$ - Volume Mechanical Work\n",
    "- $\\gamma dA$ - Surface Work\n",
    "- $\\Phi FdQ$ - Electrical Work\n",
    "\n",
    "For now, let's just make it $pdV$. Keep in mind that other methods are ok.\n",
    "\n",
    "Exact vs. Inexact differentials: pass dependence. "
   ]
  },
  {
   "cell_type": "markdown",
   "metadata": {
    "collapsed": true,
    "deletable": true,
    "editable": true
   },
   "source": [
    "### The Second Law of Thermodynamics\n",
    "\n"
   ]
  },
  {
   "cell_type": "markdown",
   "metadata": {
    "deletable": true,
    "editable": true
   },
   "source": [
    "### Heat Capacity and Property Derivations\n",
    "\n",
    "$$ C_v = \\frac{\\partial q}{\\partial T} |_V $$\n",
    "\n",
    "Throw into the first law\n",
    "\n",
    "$$dE = dq - pdV$$\n",
    "\n",
    "At constant $V$, $pdV$ is 0 so\n",
    "\n",
    "$$ C_v = \\frac{\\partial q}{\\partial T} |_V  = \\frac{\\partial E}{\\partial T} |_V $$\n",
    "\n",
    "We can consider the same but at constant $P$ where\n",
    "\n",
    "$$ C_P = \\frac{\\partial q}{\\partial T} |_P $$\n",
    "\n",
    "$$dE = \\frac{\\partial E}{\\partial p}|_T dp + \\frac{\\partial E}{\\partial T}|_p dT$$\n",
    "\n",
    "$$ C_p = \\frac{\\partial q}{\\partial T} |_P  =p\\frac{\\partial V}{\\partial T}|_P + \\frac{\\partial E}{\\partial T}|_p  =\\frac{\\partial (E+pV)}{\\partial T} |_P $$\n",
    "\n",
    "For convience we call $E+pV$ Enthalpy and set it as H.\n",
    "\n",
    "$$ C_p = \\frac{\\partial q}{\\partial T} |_P  =p\\frac{\\partial V}{\\partial T}|_P + \\frac{\\partial E}{\\partial T}|_p  =\\frac{\\partial (E+pV)}{\\partial T} |_P = \\frac{\\partial H}{\\partial T}|_P$$"
   ]
  },
  {
   "cell_type": "markdown",
   "metadata": {
    "collapsed": true,
    "deletable": true,
    "editable": true
   },
   "source": [
    "### The Second Law of Thermodynamics\n",
    "\n",
    "Tells us that in the absence of work, \"Hot Must Flow To cold\", but more importantly: a system at equilbrium has the maximum number of options.  We call these options _entropy_, where, at a macroscopic scale, we derive entropy from\n",
    "\n",
    "$$\\Delta S = \\frac{dq}{T}|_{T_b}$$\n",
    "\n",
    "If,\n",
    "\n",
    "$$ \\Delta E = q - w $$\n",
    "\n",
    "let's substitute s for our defintion of q based on the above.....\n",
    "\n",
    "$$\\Delta E = T\\Delta S - p \\Delta V $$\n",
    "\n",
    "and in differential form...\n",
    "\n",
    "$$dE = TdS - pdV$$\n",
    "\n",
    "let's examine how entropy changes as the system seeks equiblrium.\n",
    "\n",
    "$$dS = \\frac{dE}{T} + \\frac{pdV}{T}$$\n",
    "$$dS = n\\frac{c_{v}dT}{T} + \\frac{p}{T}dV$$\n",
    "$$dS = n\\frac{c_{v}dT}{T} + \\frac{nR}{V}dV$$\n",
    "\n",
    "Integrating:\n",
    "\n",
    "$$\\Delta S = n c_v \\ln \\frac{T_2}{T_1} + nR \\ln\\frac{V_2}{V_1}$$\n",
    "\n",
    "How does this match to our intuition?  Well as $T$ increases, entropy increases, and as $V$ increases, entropy increases, so good deal.\n",
    "\n",
    "Now, if we start from enthalpy,\n",
    "\n",
    "$$dH = dE + pdV + Vdp$$\n",
    "$$dH = TdS - pdV + pdV + Vdp$$\n",
    "$$dH = TdS - Vdp$$\n",
    "\n",
    "Do the same trick, so\n",
    "\n",
    "$$dS = \\frac{dH}{T} - \\frac{Vdp}{T}$$\n",
    "$$dS = n\\frac{c_{p}dT}{T} - \\frac{V}{T}dp$$\n",
    "$$dS = n\\frac{c_{p}dT}{T} - \\frac{nR}{p}dP$$\n",
    "$$\\Delta S = nc_p \\ln \\frac{T_2}{T_1} - nR \\ln\\frac{p_2}{p_1}$$\n",
    "\n",
    "\n",
    "Now, this says that as pressure _increases_ entropy _decreases_, this can be a bit counterintuitive, so consider this problem.  At constant temperature, a gaseous water is compressed to a liquid. Which state has lower entropy, the higher entropy state or the lower entropy state? Which state has more _options_?\n",
    "\n",
    "\n",
    "\n",
    "\n",
    "\n"
   ]
  }
 ],
 "metadata": {
  "kernelspec": {
   "display_name": "Python 2",
   "language": "python",
   "name": "python2"
  },
  "language_info": {
   "codemirror_mode": {
    "name": "ipython",
    "version": 2
   },
   "file_extension": ".py",
   "mimetype": "text/x-python",
   "name": "python",
   "nbconvert_exporter": "python",
   "pygments_lexer": "ipython2",
   "version": "2.7.12"
  }
 },
 "nbformat": 4,
 "nbformat_minor": 2
}
