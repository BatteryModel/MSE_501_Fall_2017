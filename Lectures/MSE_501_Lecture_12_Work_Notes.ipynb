{
 "cells": [
  {
   "cell_type": "markdown",
   "metadata": {
    "deletable": true,
    "editable": true
   },
   "source": [
    "## Lecture 12: Phase Diagrams"
   ]
  },
  {
   "cell_type": "markdown",
   "metadata": {
    "deletable": true,
    "editable": true
   },
   "source": [
    "## Equilibrium Cooling through a binary alloy\n",
    "\n",
    "<img src=\"http://steingart.princeton.edu/sharetron/Screen-Shot-2017-10-25-at-1.28.42-PM.png\">\n",
    "\n",
    " "
   ]
  },
  {
   "cell_type": "markdown",
   "metadata": {
    "deletable": true,
    "editable": true
   },
   "source": [
    "## Non Equilibrium Cooling through a binary alloy\n",
    "\n",
    "<img src=\"http://steingart.princeton.edu/sharetron/Screen-Shot-2017-10-25-at-1.31.29-PM.png\">\n",
    "\n",
    " "
   ]
  },
  {
   "cell_type": "markdown",
   "metadata": {
    "deletable": true,
    "editable": true
   },
   "source": [
    "## Eutectic Behavior \n",
    "\n",
    "<img src=\"http://steingart.princeton.edu/sharetron/Screen-Shot-2017-10-25-13-46-43.png\">\n",
    "\n",
    "<img src=\"http://steingart.princeton.edu/sharetron/Screen-Shot-2017-10-25-13-37-12.png\">\n",
    "\n",
    "<img src=\"http://steingart.princeton.edu/sharetron/Screen-Shot-2017-10-25-13-37-44.png\">\n",
    "\n",
    "<img src=\"http://steingart.princeton.edu/sharetron/Screen-Shot-2017-10-25-13-38-58.png\">\n",
    "\n",
    "<img src=\"http://steingart.princeton.edu/sharetron/Screen-Shot-2017-10-25-13-39-19.png\">\n",
    "\n",
    "<img src=\"http://steingart.princeton.edu/sharetron/Screen-Shot-2017-10-25-13-40-04.png\">\n",
    "\n",
    "<img src=\"http://steingart.princeton.edu/sharetron/Screen-Shot-2017-10-25-13-41-55.png\">\n",
    "\n",
    "<img src=\"http://steingart.princeton.edu/sharetron/Screen-Shot-2017-10-25-13-42-11.png\">\n",
    "\n",
    "<img src=\"http://steingart.princeton.edu/sharetron/Screen-Shot-2017-10-25-13-42-11.png\">\n",
    "\n",
    "  "
   ]
  },
  {
   "cell_type": "code",
   "execution_count": null,
   "metadata": {
    "collapsed": true,
    "deletable": true,
    "editable": true
   },
   "outputs": [],
   "source": []
  }
 ],
 "metadata": {
  "kernelspec": {
   "display_name": "Python 2",
   "language": "python",
   "name": "python2"
  },
  "language_info": {
   "codemirror_mode": {
    "name": "ipython",
    "version": 2
   },
   "file_extension": ".py",
   "mimetype": "text/x-python",
   "name": "python",
   "nbconvert_exporter": "python",
   "pygments_lexer": "ipython2",
   "version": "2.7.12"
  }
 },
 "nbformat": 4,
 "nbformat_minor": 2
}
