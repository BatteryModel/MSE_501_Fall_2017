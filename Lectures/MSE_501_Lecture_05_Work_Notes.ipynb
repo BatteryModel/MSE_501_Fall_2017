{
 "cells": [
  {
   "cell_type": "markdown",
   "metadata": {
    "deletable": true,
    "editable": true
   },
   "source": [
    "# Lightning Round Review\n",
    "---\n",
    "1. Bonds define material behaviors\n",
    "2. The nature of the atoms involed define the bonds\n",
    "3. Because want to be at a fixed distance while obeying directional impositions of orbitals (if any) they tend to form lattices with symmetry. There are 230 space groups.\n",
    "4. Xrays fit nicely between atoms while also scattering nicely off an atom and are useful for probing crystal structure.\n"
   ]
  },
  {
   "cell_type": "markdown",
   "metadata": {
    "deletable": true,
    "editable": true
   },
   "source": [
    "# Using X-Rays To Determine Structure\n",
    "---\n",
    "## Structure Factor Review\n",
    "\n",
    "The structure factor relationship\n",
    "\n",
    "$$F_{\\text{hkl}} = \\sum_{n=1}^N f_n exp(2\\pi i (hu_n+kv_n+lw_n))$$\n",
    "\n",
    "applies to _any_ of the 230 space groups. \n",
    "\n",
    "### FCC\n",
    "\n",
    "FCC can be considered of the form A where\n",
    "\n",
    "$$F_{\\text{hkl}} = \\sum_{n=1}^N f_n \\exp(2\\pi i (hu_n+kv_n+lw_n))$$\n",
    "\n",
    "$$u_A=0,v_A=0,w_A=0$$\n",
    "\n",
    "$$u_B=\\frac{1}{2},v_B=\\frac{1}{2},w_B=0$$\n",
    "\n",
    "$$u_C=0,v_C=\\frac{1}{2},w_C=\\frac{1}{2}$$\n",
    "\n",
    "$$u_D=\\frac{1}{2},v_C=0,w_C=\\frac{1}{2}$$\n",
    "\n",
    "\n",
    "\n",
    "$$F= f [\\exp(2\\pi i(0))+ \\exp(2\\pi i (\\frac{h}{2}+\\frac{k}{2}+0)) + \\exp(2\\pi i (\\frac{h}{2}+0+\\frac{l}{2})) + \\exp(2\\pi i (0+\\frac{k}{2}+\\frac{l}{2}))]$$\n",
    "\n",
    "$$F= f [1+ \\exp(\\pi i (h+k)+\\exp(\\pi i (k+l)+\\exp(\\pi i (h+l)]$$\n",
    "\n",
    "\n",
    "so if \n",
    "- $h,k,l=\\text{all even all odd}$ we should get a peak (4f)\n",
    "- $h+k=\\text{mixed}$ we should not get a peak (0)\n",
    "\n",
    "## Jason's Question\n",
    "\n",
    "So what was this Ni FCC pattern indexed like this?\n",
    "\n",
    "\n",
    "<img src=\"https://drops.steingart.princeton.edu/MSE501_Fall_2017/Images/Lecture04/Ni_back.png\">\n",
    "\n",
    "from [doi: 10.1149/2.037403jes](http://jes.ecsdl.org/content/161/3/A275.abstract)\n",
    "\n",
    "\n",
    "\n",
    "### BCC\n",
    "\n",
    "BCC can be considered of the form A,B where A = [0 0 0] and B = [1/2 1/2 1/2], so for any rotation we can say that\n",
    "\n",
    "$$F_{\\text{hkl}} = \\sum_{n=1}^N f_n \\exp(2\\pi i (hu_n+kv_n+lw_n))$$\n",
    "\n",
    "$$u_1=0,v_1=0,w_1=0$$\n",
    "\n",
    "$$u_2=\\frac{1}{2},v_2=\\frac{1}{2},w_2=\\frac{1}{2}$$\n",
    "\n",
    "$$F= f [\\exp(2\\pi i(0))+ \\exp(2\\pi i (\\frac{h}{2}+\\frac{k}{2}+\\frac{l}{2}))]$$\n",
    "\n",
    "$$F= f [1+ \\exp(\\pi i (h+k+l)]$$\n",
    "\n",
    "\n",
    "so if \n",
    "- $h+k+l=\\text{even}$ we should get a peak\n",
    "- $h+k+l=\\text{odd}$ we should not get a peak\n",
    "\n",
    "\n",
    "\n",
    "### Simple Cubic\n",
    "\n",
    "\n",
    "$$F_{\\text{hkl}} = \\sum_{n=1}^N f_n \\exp(2\\pi i (hu_n+kv_n+lw_n))$$\n",
    "\n",
    "$$u_1=0,v_1=0,w_1=0$$\n",
    "\n",
    "$$u_2=1,v_2=0,w_2=0$$\n",
    "\n",
    "$$F= f [\\exp(2\\pi i(0))+ \\exp(2\\pi i h)]$$\n",
    "\n",
    "$$F= f [1+ \\exp(\\pi i (2h)]$$\n",
    "\n",
    "2 times _anything_ is even, so.....\n",
    "\n",
    "\n",
    "\n",
    "\n"
   ]
  },
  {
   "cell_type": "code",
   "execution_count": 32,
   "metadata": {
    "collapsed": false,
    "deletable": true,
    "editable": true
   },
   "outputs": [
    {
     "data": {
      "image/png": "[encoded data removed]",
      "text/plain": [
       "<matplotlib.figure.Figure at 0x7f5f1cc9c610>"
      ]
     },
     "metadata": {},
     "output_type": "display_data"
    }
   ],
   "source": [
    "import sys\n",
    "\n",
    "sys.path.append(\"/pithy/code\")\n",
    "sys.path.append(\"/pithy/files/pylattice\")\n",
    "\n",
    "#import above\n",
    "from pithy import *\n",
    "from lattice import *\n",
    "import libruff\n",
    "#jupyter magic call\n",
    "%matplotlib inline\n",
    "\n",
    "\n",
    "#Try to make our own fcc lattice\n",
    "parameter = 5\n",
    "\n",
    "v1 = parameter*array([0,.5,.5]) \n",
    "v2 = parameter*array([.5,0,.5])\n",
    "v3 = parameter*array([.5,.5,0])\n",
    "\n",
    "lattice = Lattice(v1,v2,v3)\n",
    "basis = Basis([('Fe',[0,0,0])], l_const=parameter)\n",
    "crystal = lattice + basis\n",
    "\n",
    "scattering_data = powder_XRD(crystal, 1.5405)\n",
    "angles, values = spectrumify(scattering_data)\n",
    "plot(angles, values)\n",
    "\n",
    "    \n",
    "title(r'Simulated Powder XRD of An FCC structure lattice parameter 5 Fe, $\\lambda = 1.5405$')\n",
    "xlabel(r'$2\\theta$')\n",
    "ylabel(r'Scattering Intensity per Cubic Angstrom')\n",
    "show()\n",
    "\n",
    "\n"
   ]
  },
  {
   "cell_type": "code",
   "execution_count": 21,
   "metadata": {
    "collapsed": false,
    "deletable": true,
    "editable": true
   },
   "outputs": [
    {
     "data": {
      "image/png": "[encoded data removed]",
      "text/plain": [
       "<matplotlib.figure.Figure at 0x7f5f1c7e66d0>"
      ]
     },
     "metadata": {},
     "output_type": "display_data"
    }
   ],
   "source": [
    "parameter =  5.63\n",
    "#make an FCC lattice\n",
    "v1 = parameter*array([0,.5,.5]) \n",
    "v2 = parameter*array([.5,0,.5])\n",
    "v3 = parameter*array([.5,.5,0])\n",
    "lattice = Lattice(v1,v2,v3)\n",
    "\n",
    "#set the NaCl basis\n",
    "basis = Basis([('Cl',[0,0,0]),\n",
    "               ('Na',[0.5,0.5,0.5])],\n",
    "              l_const=parameter)\n",
    "\n",
    "#make crystal\n",
    "crystal = lattice + basis\n",
    "\n",
    "# Plot a simulated XRD with copper radiation\n",
    "\n",
    "figure(figsize=(15,5))\n",
    "scattering_data = powder_XRD(crystal, 1.5405)\n",
    "angles, values = spectrumify(scattering_data)\n",
    "plot(angles, values,label='simulation')\n",
    "\n",
    "# Get real salt from database\n",
    "rd = libruff.get(\"Halite__R070292-1__Powder__Xray_Data_XY_RAW__8525\") #\n",
    "angles = rd['CELL PARAMETERS']['theta']\n",
    "values = rd['CELL PARAMETERS']['counts']\n",
    "values = values/max(values) +1 #normalized data\n",
    "plot(angles,values,label=\"Experiment\")\n",
    "\n",
    "\n",
    "# Add some more info to the plot\n",
    "title(r'Simulated Powder XRD of NaCl, $\\lambda = 1.5405$')\n",
    "xlabel(r'$2\\theta$')\n",
    "ylabel(r'Scattering Intensity per Cubic Angstrom')\n",
    "legend()\n",
    "show()\n",
    "\n"
   ]
  },
  {
   "cell_type": "markdown",
   "metadata": {
    "deletable": true,
    "editable": true
   },
   "source": [
    "### Can we determine a structure factor for diamond?\n",
    "\n",
    "At it's core it is fcc, so,\n",
    "\n",
    "we have atoms at `[0.5,0.5,0.5]`, but the difference is that diamond has 1/2 of it's tetrahedral interstitials occupied, so `[0.25,0.25,0.25]`, and permutations thereof, need to be considered.\n",
    "\n",
    "So we can take the structure factor for FCC, \n",
    "\n",
    "$$F_{\\text{FCC}}= f [1+ \\exp(\\pi i (h+k)+\\exp(\\pi i (k+l)+\\exp(\\pi i (h+l)]$$\n",
    "\n",
    "$$F_{\\text{Diamond}} = F_{\\text{FCC}} + f e^{\\pi i (h+k+l)}[[1+ \\exp(\\pi i (h+k)+\\exp(\\pi i (k+l)+\\exp(\\pi i (h+l)]]$$\n",
    "\n",
    "So if h,k,l are even and h+k+l/4 is an integer.  Should this be more or fewer peaks than FCC?"
   ]
  },
  {
   "cell_type": "code",
   "execution_count": 27,
   "metadata": {
    "collapsed": false,
    "deletable": true,
    "editable": true
   },
   "outputs": [
    {
     "data": {
      "image/png": "[encoded data removed]",
      "text/plain": [
       "<matplotlib.figure.Figure at 0x7f5f1cb9f690>"
      ]
     },
     "metadata": {},
     "output_type": "display_data"
    }
   ],
   "source": [
    "##Let's Try Diamond\n",
    "\n",
    "l_cu = 1.5405\n",
    "\n",
    "#Set up an FCC lattice\n",
    "a_Diamond = 3.5597\n",
    "v1 = a_Diamond*array([0,.5,.5]) \n",
    "v2 = a_Diamond*array([.5,0,.5])\n",
    "v3 = a_Diamond*array([.5,.5,0])\n",
    "lattice = Lattice(v1,v2,v3)\n",
    "\n",
    "#Set Up Basis\n",
    "#\n",
    "basis = Basis([('C',[0,0,0]),('C',[0.25,0.25,0.25])],l_const=a_Diamond)\n",
    "\n",
    "#Make Crystal\n",
    "crystal = lattice + basis\n",
    "\n",
    "#Plot a simulated XRD with copper\n",
    "scattering_data = powder_XRD(crystal,1.5405)\n",
    "angles, values = spectrumify(scattering_data)\n",
    "\n",
    "plot(angles,values,label=\"Simulation\")\n",
    "\n",
    "# Get real salt from database\n",
    "rd = libruff.get(\"Diamond__R050207-9__Powder__Xray_Data_XY_Processed__7229\") #\n",
    "angles = rd['CELL PARAMETERS']['theta']\n",
    "values = rd['CELL PARAMETERS']['counts']\n",
    "values = values/max(values) +1 #normalized data\n",
    "plot(angles,values,label=\"Experiment\")\n",
    "\n",
    "\n",
    "\n",
    "\n",
    "# Add some more info to the plot\n",
    "title(r'Simulated Powder XRD of Diamond, $\\lambda = 1.5405$')\n",
    "xlabel(r'$2\\theta$')\n",
    "ylabel(r'Scattering Intensity per Cubic Angstrom')\n",
    "xlim(0,max(angles))\n",
    "legend()\n",
    "show()\n",
    "\n",
    "\n",
    "\n"
   ]
  },
  {
   "cell_type": "markdown",
   "metadata": {
    "deletable": true,
    "editable": true
   },
   "source": [
    "## Methodology for manually indexing\n",
    "\n",
    "An unknown sample has peaks at the following $2\\theta$, found using a copper source.\n",
    "\n",
    " ```\n",
    " 28.4340 \n",
    " 47.3030 \n",
    " 56.1284 \n",
    " 69.1337 \n",
    " 76.3758 \n",
    " 88.0425 ```\n",
    "\n",
    "I'm hinting that it's cubic, (and just start here b/c it's easy)\n",
    "\n",
    "$$\\sin^2 (\\theta) = \\lambda^2\\frac{h^2+k^2+l^2}{4a^2}$$\n",
    "\n",
    "$h^2+k^2+l^2$ must be an integer number\n",
    "\n",
    "\n",
    "$$\\frac{\\sin^2 (\\theta) 4a^2}{\\lambda^2} = h^2+k^2+l^2$$\n",
    "\n",
    "So, we have effectively more unknowns than equations, so we have to guess and check\n",
    "\n"
   ]
  },
  {
   "cell_type": "code",
   "execution_count": 57,
   "metadata": {
    "collapsed": false,
    "deletable": true,
    "editable": true
   },
   "outputs": [
    {
     "name": "stdout",
     "output_type": "stream",
     "text": [
      "2theta= 0.496266742065 sin^2(theta)= 0.060316869296\n",
      "2theta= 0.825592800868 sin^2(theta)= 0.16093929707\n",
      "2theta= 0.979625033598 sin^2(theta)= 0.221333041894\n",
      "2theta= 1.20661025765 sin^2(theta)= 0.321905567912\n",
      "2theta= 1.33300870221 sin^2(theta)= 0.382223458902\n",
      "2theta= 1.53663095724 sin^2(theta)= 0.482920638388\n",
      "[ 1.          2.66823028  3.66950481  5.33690776  6.3369247   8.0063943 ]\n"
     ]
    }
   ],
   "source": [
    "arr =  array([28.4340,47.3030,56.1284,69.1337,76.3758,88.0425])\n",
    "\n",
    "#conver to radians\n",
    "arr = arr/57.2958\n",
    "\n",
    "for a in arr: print '2theta=',a,'sin^2(theta)=',sin(a/2)**2\n",
    "\n",
    "#try normalizing to first peak....\n",
    "\n",
    "conv = sin(arr/2)**2\n",
    "\n",
    "conv = conv/conv[0] #ratio of the different peaks\n",
    "print conv\n"
   ]
  },
  {
   "cell_type": "markdown",
   "metadata": {
    "deletable": true,
    "editable": true
   },
   "source": [
    "Not great yet, so let's multiply"
   ]
  },
  {
   "cell_type": "code",
   "execution_count": 68,
   "metadata": {
    "collapsed": false,
    "deletable": true,
    "editable": true
   },
   "outputs": [
    {
     "name": "stdout",
     "output_type": "stream",
     "text": [
      "3.0 8.00469084099 11.0085144244 16.0107232853 19.0107741016 24.0191828932\n"
     ]
    }
   ],
   "source": [
    "for i in conv: print i *3,"
   ]
  },
  {
   "cell_type": "markdown",
   "metadata": {
    "deletable": true,
    "editable": true
   },
   "source": [
    "this we can work with, \n",
    "\n",
    "- $1^2+1^2+1^2 = 3$  All odd\n",
    "- $2^2+2^2+0^2 = 8$  All even\n",
    "- $3^2+1^2+1^2 = 11$ All odd\n",
    "- $4^2+0^2+0^2 = 16$ All even\n",
    "- $3^2+3^2+1^2 = 19$ All odd\n",
    "- $4^2+2^2+2^2 = 24$ All odd\n",
    "\n",
    "this seems to be fcc. let's test\n",
    "\n"
   ]
  },
  {
   "cell_type": "code",
   "execution_count": 69,
   "metadata": {
    "collapsed": false,
    "deletable": true,
    "editable": true
   },
   "outputs": [
    {
     "name": "stdout",
     "output_type": "stream",
     "text": [
      "5.43216481852\n",
      "5.43057292971\n",
      "5.43006368562\n",
      "5.4303454001\n",
      "5.43062529703\n",
      "5.42999518911\n"
     ]
    }
   ],
   "source": [
    "l_cu = 1.5405 #our copper source\n",
    "\n",
    "miller = [[1,1,1],[2,2,0],[3,1,1],[4,0,0],[3,3,1],[4,2,2]]  #our available peaks\n",
    "\n",
    "for i in range(len(miller)): #sweep the range\n",
    "    theta = arr[i]/2 #match theta\n",
    "    summer = 0\n",
    "    for j in miller[i]:\n",
    "        summer += j**2\n",
    "    a = sqrt(l_cu**2*(summer)/(4*sin(theta)**2))\n",
    "\n",
    "    print a\n",
    "    "
   ]
  },
  {
   "cell_type": "code",
   "execution_count": 70,
   "metadata": {
    "collapsed": false,
    "deletable": true,
    "editable": true
   },
   "outputs": [
    {
     "data": {
      "image/png": "[encoded data removed]",
      "text/plain": [
       "<matplotlib.figure.Figure at 0x7f5f1bf70350>"
      ]
     },
     "metadata": {},
     "output_type": "display_data"
    }
   ],
   "source": [
    "param = a\n",
    "lattice = FCC(a)\n",
    "basis = Basis([('Siv',[0,0,0]),('Siv',[0.25,0.25,0.25])],l_const=a)\n",
    "crystal = lattice + basis\n",
    "\n",
    "# Plot a simulated XRD with copper radiation\n",
    "scattering_data = powder_XRD(crystal, 1.5405)\n",
    "angles, values = spectrumify(scattering_data)\n",
    "\n",
    "plot(angles,values,label=\"Simulation\")\n",
    "\n",
    "#Silicon__R050145-1__Powder__Xray_Data_XY_Processed__4415\n",
    "rd = libruff.get(\"Silicon__R050145-1__Powder__Xray_Data_XY_Processed__4415\") #\n",
    "angles = rd['CELL PARAMETERS']['theta']\n",
    "values = rd['CELL PARAMETERS']['counts']\n",
    "values = values/max(values) +1 #normalized data\n",
    "plot(angles,values,label=\"Experiment\")\n",
    "\n",
    "\n",
    "# Add some more info to the plot\n",
    "title(r'Simulated Powder XRD of Silicon, $\\lambda = 1.5405$')\n",
    "xlabel(r'$2\\theta$')\n",
    "ylabel(r'Scattering Intensity per Cubic Angstrom')\n",
    "xlim(0,max(angles))\n",
    "legend()\n",
    "show()\n",
    "\n"
   ]
  },
  {
   "cell_type": "markdown",
   "metadata": {
    "deletable": true,
    "editable": true
   },
   "source": [
    "## Chung 2002\n",
    "\n",
    "What are they claiming?\n",
    "\n",
    "Why are they claiming it?\n",
    "\n",
    "Based on the paper and what we know about XRD, what do we think about the claim?\n",
    "\n",
    "What is the challenge brought by the follow up piece?\n",
    "\n"
   ]
  },
  {
   "cell_type": "code",
   "execution_count": null,
   "metadata": {
    "collapsed": true,
    "deletable": true,
    "editable": true
   },
   "outputs": [],
   "source": []
  }
 ],
 "metadata": {
  "kernelspec": {
   "display_name": "Python 2",
   "language": "python",
   "name": "python2"
  },
  "language_info": {
   "codemirror_mode": {
    "name": "ipython",
    "version": 2
   },
   "file_extension": ".py",
   "mimetype": "text/x-python",
   "name": "python",
   "nbconvert_exporter": "python",
   "pygments_lexer": "ipython2",
   "version": "2.7.12"
  }
 },
 "nbformat": 4,
 "nbformat_minor": 2
}
